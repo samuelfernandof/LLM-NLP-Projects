{
  "cells": [
    {
      "cell_type": "markdown",
      "metadata": {
        "id": "view-in-github",
        "colab_type": "text"
      },
      "source": [
        "<a href=\"https://colab.research.google.com/github/samuelfernandof/LLM-NLP-Projects/blob/main/EstudoCaso1.ipynb\" target=\"_parent\"><img src=\"https://colab.research.google.com/assets/colab-badge.svg\" alt=\"Open In Colab\"/></a>"
      ]
    },
    {
      "cell_type": "markdown",
      "source": [
        "## Anatomia de Um Modelo Transformer com PyTorch\n",
        "\n",
        "## Esse código define uma classe Transformer que estende a classe nn.Module do PyTorch e implementa um modelo transformador\n",
        "# para processamento de linguagem natural.\n",
        "\n",
        "### O método __init__() inicializa o modelo do transformador e define as várias camadas do modelo.\n",
        "\n",
        "### O método forward() define como a sequência de entrada é transformada pelo modelo para gerar a sequência de saída."
      ],
      "metadata": {
        "id": "yFCo0nwrSvxM"
      }
    },
    {
      "cell_type": "code",
      "source": [
        "# Imports\n",
        "import torch\n",
        "from torch import nn\n",
        "\n",
        "# Classe\n",
        "class Transformer(nn.Module):\n",
        "\n",
        "  # Método construtor\n",
        "  def __init__(self, vocab_size, embedding_dim, n_heads, n_layers, dropout):\n",
        "\n",
        "    # Inicializa o construtor da classe mãe (nn..Module)\n",
        "    super().__init__()\n",
        "\n",
        "    # Inicializa atributos\n",
        "    self.vocab_size = vocab_size\n",
        "    self.embedding_dim = embedding_dim\n",
        "    self.n_heads = n_heads\n",
        "    self.n_layers = n_layers\n",
        "    self.dropout = dropout\n",
        "\n",
        "    # Define a camada de embedding que transformará a sequência de entrada em uma sequência de vetores de dimensão fixa\n",
        "    self.embedding = nn.Embedding(vocab_size, embedding_dim)\n",
        "\n",
        "    # Define o mecanismo de auto-atenção multi-headed\n",
        "    self.attention = nn.MultiheadAttention(embedding_dim, n_heads, dropout = dropout)\n",
        "\n",
        "    # Define a rede neural feed-forward que será usada para gerar a sequência de saída a partir da sequência de entrada\n",
        "    self.feed_forward = nn.Sequential(\n",
        "        nn.Linear(embedding_dim, embedding_dim),\n",
        "        nn.ReLU(),\n",
        "        nn.Linear(embedding_dim, embedding_dim)\n",
        "    )\n",
        "\n",
        "    # Define a camada de saída final que transformará a sequência de saída na forma de saída desejada\n",
        "    self.out = nn.Linear(embedding_dim, vocab_size)\n",
        "\n",
        "  # Método forward\n",
        "  def forward(self, x):\n",
        "\n",
        "    # Aplica a camada de embedding à sequência de entrada\n",
        "    x = self.embedding(x)\n",
        "\n",
        "    # Aplica o mecanismo multi-headed self-attention\n",
        "    x = self.attention(x)\n",
        "\n",
        "    # Aplica o método feed-forward\n",
        "    x = self.feed_forward(x)\n",
        "\n",
        "    # Aplica a camada final\n",
        "    x = self.out(x)\n",
        "\n",
        "    return x\n",
        "\n",
        "\n",
        "# Para criar um modelo transformador, você pode instanciar a classe Transformer e especificar os hiperparâmetros do modelo,\n",
        "# como o tamanho do vocabulário, a dimensão da embedding, o número de \"cabeças\" de atenção, o número de camadas e a taxa de dropout.\n",
        "\n",
        "\n",
        "# Por exemplo:\n",
        "model = Transformer(vocab_size = 1000, embedding_dim = 32, n_heads = 4, n_layers = 2, dropout = 0.5)\n",
        "\n",
        "\n",
        "# Isso cria um modelo transformador com um tamanho de vocabulário de 1000, uma dimensão de embedding de 32,\n",
        "# 4 cabeças de atenção, 2 camadas ocultas  e uma taxa de desistência (dropout) de 0,5.\n",
        "\n",
        "# Você pode usar esse modelo para processar sequências de entrada e gerar sequências de saída usando o método forward().\n",
        "\n",
        "\n"
      ],
      "metadata": {
        "id": "Lo_yE9FxSf75"
      },
      "execution_count": 4,
      "outputs": []
    }
  ],
  "metadata": {
    "accelerator": "GPU",
    "colab": {
      "provenance": [],
      "include_colab_link": true
    },
    "gpuClass": "standard",
    "kernelspec": {
      "display_name": "Python 3 (ipykernel)",
      "language": "python",
      "name": "python3"
    },
    "language_info": {
      "codemirror_mode": {
        "name": "ipython",
        "version": 3
      },
      "file_extension": ".py",
      "mimetype": "text/x-python",
      "name": "python",
      "nbconvert_exporter": "python",
      "pygments_lexer": "ipython3",
      "version": "3.9.13"
    }
  },
  "nbformat": 4,
  "nbformat_minor": 0
}