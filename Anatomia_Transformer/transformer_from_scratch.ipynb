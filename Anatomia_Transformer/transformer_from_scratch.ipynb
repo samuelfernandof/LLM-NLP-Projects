{
  "cells": [
    {
      "cell_type": "markdown",
      "id": "1d299596",
      "metadata": {
        "id": "1d299596"
      },
      "source": [
        "## <font color='blue'>Construindo Um Modelo Transformer Para Previsão de Sequências</font>"
      ]
    },
    {
      "cell_type": "markdown",
      "id": "cb12519f",
      "metadata": {
        "id": "cb12519f"
      },
      "source": [
        "https://arxiv.org/pdf/1706.03762.pdf"
      ]
    },
    {
      "cell_type": "code",
      "execution_count": 1,
      "id": "77d97acd",
      "metadata": {
        "colab": {
          "base_uri": "https://localhost:8080/"
        },
        "id": "77d97acd",
        "outputId": "921897e1-0967-4e7e-8916-fde642602ea5"
      },
      "outputs": [
        {
          "output_type": "stream",
          "name": "stdout",
          "text": [
            "\u001b[2K     \u001b[90m━━━━━━━━━━━━━━━━━━━━━━━━━━━━━━━━━━━━━━━━\u001b[0m \u001b[32m887.5/887.5 MB\u001b[0m \u001b[31m986.9 kB/s\u001b[0m eta \u001b[36m0:00:00\u001b[0m\n",
            "\u001b[2K     \u001b[90m━━━━━━━━━━━━━━━━━━━━━━━━━━━━━━━━━━━━━━━━\u001b[0m \u001b[32m849.3/849.3 kB\u001b[0m \u001b[31m57.4 MB/s\u001b[0m eta \u001b[36m0:00:00\u001b[0m\n",
            "\u001b[2K     \u001b[90m━━━━━━━━━━━━━━━━━━━━━━━━━━━━━━━━━━━━━━━━\u001b[0m \u001b[32m557.1/557.1 MB\u001b[0m \u001b[31m2.5 MB/s\u001b[0m eta \u001b[36m0:00:00\u001b[0m\n",
            "\u001b[2K     \u001b[90m━━━━━━━━━━━━━━━━━━━━━━━━━━━━━━━━━━━━━━━━\u001b[0m \u001b[32m317.1/317.1 MB\u001b[0m \u001b[31m4.3 MB/s\u001b[0m eta \u001b[36m0:00:00\u001b[0m\n",
            "\u001b[2K     \u001b[90m━━━━━━━━━━━━━━━━━━━━━━━━━━━━━━━━━━━━━━━━\u001b[0m \u001b[32m21.0/21.0 MB\u001b[0m \u001b[31m63.2 MB/s\u001b[0m eta \u001b[36m0:00:00\u001b[0m\n",
            "\u001b[?25h\u001b[31mERROR: pip's dependency resolver does not currently take into account all the packages that are installed. This behaviour is the source of the following dependency conflicts.\n",
            "torchaudio 2.3.0+cu121 requires torch==2.3.0, but you have torch 1.13.1 which is incompatible.\n",
            "torchtext 0.18.0 requires torch>=2.3.0, but you have torch 1.13.1 which is incompatible.\n",
            "torchvision 0.18.0+cu121 requires torch==2.3.0, but you have torch 1.13.1 which is incompatible.\u001b[0m\u001b[31m\n",
            "\u001b[0m"
          ]
        }
      ],
      "source": [
        "# https://pypi.org/project/torch/\n",
        "!pip install -q torch==1.13.1"
      ]
    },
    {
      "cell_type": "code",
      "execution_count": 2,
      "id": "bdb32510",
      "metadata": {
        "id": "bdb32510"
      },
      "outputs": [],
      "source": [
        "# Imports\n",
        "import math\n",
        "import random\n",
        "import torch\n",
        "import torch.nn as nn\n",
        "import numpy as np\n",
        "import matplotlib.pyplot as plt"
      ]
    },
    {
      "cell_type": "markdown",
      "id": "2b9de5da",
      "metadata": {
        "id": "2b9de5da"
      },
      "source": [
        "## Geração de Sequências de Dados\n",
        "\n",
        "Para este projeto vamos criar um conjunto de dados fictícios que usaremos para treinar nosso modelo. Esses dados serão compostos por sequências como:\n",
        "\n",
        "- 1, 1, 1, 1, 1, 1, 1, 1 → 1, 1, 1, 1, 1, 1, 1, 1\n",
        "\n",
        "\n",
        "- 0, 0, 0, 0, 0, 0, 0, 0 → 0, 0, 0, 0, 0, 0, 0, 0\n",
        "\n",
        "\n",
        "- 1, 0, 1, 0, 1, 0, 1, 0 → 1, 0, 1, 0, 1, 0, 1, 0\n",
        "\n",
        "\n",
        "- 0, 1, 0, 1, 0, 1, 0, 1 → 0, 1, 0, 1, 0, 1, 0, 1\n",
        "\n",
        "\n",
        "Sinta-se à vontade para alterar a sequência de entrada com seus próprios dados."
      ]
    },
    {
      "cell_type": "markdown",
      "id": "69724df9",
      "metadata": {
        "id": "69724df9"
      },
      "source": [
        "O tensor de destino que fornecemos como entrada para o transformador deve ser deslocado em um para a direita (em comparação com o tensor de saída de destino).\n",
        "\n",
        "Em outras palavras, o tensor que queremos dar ao modelo para treinamento deve ter um elemento a mais no início e um elemento a menos no final, e o tensor com o qual calculamos a função de perda deve ser deslocado na outra direção. Isso ocorre para que, se dermos um elemento ao modelo durante a inferência, ele nos forneça o próximo (a sequência)."
      ]
    },
    {
      "cell_type": "code",
      "execution_count": 4,
      "id": "cfebb0d7",
      "metadata": {
        "id": "cfebb0d7"
      },
      "outputs": [],
      "source": [
        "# Função para gerar dados\n",
        "def gera_dados(n):\n",
        "\n",
        "    # Array do token de início\n",
        "    SOS_token = np.array([2])\n",
        "\n",
        "    # Array do token de término\n",
        "    EOS_token = np.array([3])\n",
        "\n",
        "    # Comrimento da sequência\n",
        "    length = 8\n",
        "\n",
        "    # Lista para os dados\n",
        "    data = []\n",
        "\n",
        "    # 1,1,1,1,1,1 -> 1,1,1,1,1\n",
        "    for i in range(n // 3):\n",
        "        X = np.concatenate((SOS_token, np.ones(length), EOS_token))\n",
        "        y = np.concatenate((SOS_token, np.ones(length), EOS_token))\n",
        "        data.append([X, y])\n",
        "\n",
        "    # 0,0,0,0 -> 0,0,0,0\n",
        "    for i in range(n // 3):\n",
        "        X = np.concatenate((SOS_token, np.zeros(length), EOS_token))\n",
        "        y = np.concatenate((SOS_token, np.zeros(length), EOS_token))\n",
        "        data.append([X, y])\n",
        "\n",
        "    # 1,0,1,0 -> 1,0,1,0,1\n",
        "    for i in range(n // 3):\n",
        "\n",
        "        X = np.zeros(length)\n",
        "\n",
        "        start = random.randint(0, 1)\n",
        "\n",
        "        X[start::2] = 1\n",
        "\n",
        "        y = np.zeros(length)\n",
        "\n",
        "        if X[-1] == 0:\n",
        "            y[::2] = 1\n",
        "        else:\n",
        "            y[1::2] = 1\n",
        "\n",
        "        X = np.concatenate((SOS_token, X, EOS_token))\n",
        "        y = np.concatenate((SOS_token, y, EOS_token))\n",
        "\n",
        "        data.append([X, y])\n",
        "\n",
        "    np.random.shuffle(data)\n",
        "\n",
        "    return data"
      ]
    },
    {
      "cell_type": "code",
      "execution_count": 5,
      "id": "9a127ad6",
      "metadata": {
        "id": "9a127ad6"
      },
      "outputs": [],
      "source": [
        "# Dados de treino com 9 mil sequências\n",
        "dados_treino = gera_dados(9000)"
      ]
    },
    {
      "cell_type": "code",
      "execution_count": 6,
      "id": "ae789cac",
      "metadata": {
        "id": "ae789cac"
      },
      "outputs": [],
      "source": [
        "# Dados de validação com 3 mil sequências\n",
        "dados_valid = gera_dados(3000)"
      ]
    },
    {
      "cell_type": "markdown",
      "id": "8c6259f9",
      "metadata": {
        "id": "8c6259f9"
      },
      "source": [
        "## Criando os Batches de Dados"
      ]
    },
    {
      "cell_type": "code",
      "execution_count": 7,
      "id": "f82e144e",
      "metadata": {
        "id": "f82e144e"
      },
      "outputs": [],
      "source": [
        "# Função para gerar os batches de dados\n",
        "def gera_lotes(data, batch_size = 16):\n",
        "\n",
        "    # Lista de batches\n",
        "    batches = []\n",
        "\n",
        "    # Loop\n",
        "    for idx in range(0, len(data), batch_size):\n",
        "\n",
        "        # Cria os batches de dados de tamanho 16\n",
        "        if idx + batch_size < len(data):\n",
        "            batches.append(np.array(data[idx : idx + batch_size]).astype(np.int64))\n",
        "\n",
        "    print(f\"{len(batches)} batches de tamanho {batch_size}\")\n",
        "\n",
        "    return batches"
      ]
    },
    {
      "cell_type": "code",
      "execution_count": 8,
      "id": "f2c2981b",
      "metadata": {
        "colab": {
          "base_uri": "https://localhost:8080/"
        },
        "id": "f2c2981b",
        "outputId": "16da9e6b-b6f9-4609-89d3-1d9821255341"
      },
      "outputs": [
        {
          "output_type": "stream",
          "name": "stdout",
          "text": [
            "562 batches de tamanho 16\n"
          ]
        }
      ],
      "source": [
        "# Dataloader com lotes de treino\n",
        "df_treino = gera_lotes(dados_treino)"
      ]
    },
    {
      "cell_type": "code",
      "execution_count": 9,
      "id": "e19306fa",
      "metadata": {
        "colab": {
          "base_uri": "https://localhost:8080/"
        },
        "id": "e19306fa",
        "outputId": "ac364d16-385d-4493-9e14-17fbdefc1280"
      },
      "outputs": [
        {
          "output_type": "stream",
          "name": "stdout",
          "text": [
            "187 batches de tamanho 16\n"
          ]
        }
      ],
      "source": [
        "# Dataloader com lotes de validação\n",
        "df_valid = gera_lotes(dados_valid)"
      ]
    },
    {
      "cell_type": "markdown",
      "id": "0c2c4c8b",
      "metadata": {
        "id": "0c2c4c8b"
      },
      "source": [
        "## Classe PositionalEncoding\n",
        "\n",
        "Dizer “eu comi uma pizza com abacaxi” não é o mesmo que dizer “um abacaxi comi eu com pizza”. Logo, a ordem das palavras e a posição de cada palavra no texto importa. E como representar isso no modelo Transformer?\n",
        "\n",
        "Felizmente, temos uma solução: Codificação Posicional (PositionalEncoding).\n",
        "\n",
        "Esta é uma forma de “dar importância” aos elementos em função da sua posição. Criamos um vetor para cada elemento representando sua posição em relação a todos os outros elementos da sequência. A codificação posicional segue esta fórmula abaixo."
      ]
    },
    {
      "cell_type": "markdown",
      "id": "ebd4a457",
      "metadata": {
        "id": "ebd4a457"
      },
      "source": [
        "![DSA](imagens/fig2.png)"
      ]
    },
    {
      "cell_type": "code",
      "execution_count": 10,
      "id": "c72c2ada-2106-4505-82f5-086e518080a5",
      "metadata": {
        "id": "c72c2ada-2106-4505-82f5-086e518080a5"
      },
      "outputs": [],
      "source": [
        "# Classe para a codificação posicional\n",
        "class PositionalEncoding(nn.Module):\n",
        "\n",
        "    # Método construtor\n",
        "    def __init__(self, dim_model, dropout_p, max_len):\n",
        "\n",
        "        # Método construtor da classe mãe\n",
        "        super().__init__()\n",
        "\n",
        "        # Dropout para evitar overffiting\n",
        "        self.dropout = nn.Dropout(dropout_p)\n",
        "\n",
        "        # Tensor para a codificação posicional\n",
        "        pos_encoding = torch.zeros(max_len, dim_model)\n",
        "\n",
        "        # Lista de posições\n",
        "        positions_list = torch.arange(0, max_len, dtype = torch.float).view(-1, 1)\n",
        "\n",
        "        # Termo de divisão\n",
        "        division_term = torch.exp(torch.arange(0, dim_model, 2).float() * (-math.log(10000.0)) / dim_model)\n",
        "\n",
        "        # PE(pos, 2i) = sin(pos/1000^(2i/dim_model))\n",
        "        pos_encoding[:, 0::2] = torch.sin(positions_list * division_term)\n",
        "\n",
        "        # PE(pos, 2i + 1) = cos(pos/1000^(2i/dim_model))\n",
        "        pos_encoding[:, 1::2] = torch.cos(positions_list * division_term)\n",
        "\n",
        "        # Transposta da matriz de codificação posicional\n",
        "        pos_encoding = pos_encoding.unsqueeze(0).transpose(0, 1)\n",
        "\n",
        "        # Registra o buffer\n",
        "        self.register_buffer(\"pos_encoding\", pos_encoding)\n",
        "\n",
        "    # Método forward\n",
        "    def forward(self, token_embedding: torch.tensor) -> torch.tensor:\n",
        "        # Cria a embedding e aplica o dropout\n",
        "        return self.dropout(token_embedding + self.pos_encoding[:token_embedding.size(0), :])"
      ]
    },
    {
      "cell_type": "markdown",
      "id": "a32f7770",
      "metadata": {
        "id": "a32f7770"
      },
      "source": [
        "## Classe Transformer\n",
        "\n",
        "Vamos agora criar classe do Transformador.\n",
        "\n",
        "Para adicionar a codificação posicional, precisamos de uma camada de embedding para que cada elemento em nossas sequências seja convertido em um vetor que possamos manipular.\n",
        "\n",
        "Também precisaremos de uma camada linear final para que possamos converter a saída do modelo nas dimensões de nossa saída desejada."
      ]
    },
    {
      "cell_type": "code",
      "execution_count": 11,
      "id": "588b2729-866c-470a-aca7-6a3c5ea0b192",
      "metadata": {
        "id": "588b2729-866c-470a-aca7-6a3c5ea0b192"
      },
      "outputs": [],
      "source": [
        "# Classe Transformer\n",
        "class Transformer(nn.Module):\n",
        "\n",
        "    # Construtor\n",
        "    def __init__(self, num_tokens, dim_model, num_heads, num_encoder_layers, num_decoder_layers, dropout_p):\n",
        "\n",
        "        # Construtor da classe mãe\n",
        "        super().__init__()\n",
        "\n",
        "        # Atributos\n",
        "        self.model_type = \"Transformer\"\n",
        "        self.dim_model = dim_model\n",
        "\n",
        "        # Camada embedding\n",
        "        self.embedding = nn.Embedding(num_tokens, dim_model)\n",
        "\n",
        "        # Camada posicional\n",
        "        self.positional_encoder = PositionalEncoding(dim_model = dim_model,\n",
        "                                                     dropout_p = dropout_p,\n",
        "                                                     max_len = 5000)\n",
        "\n",
        "        # Camada do transformador\n",
        "        self.transformer = nn.Transformer(d_model = dim_model,\n",
        "                                          nhead = num_heads,\n",
        "                                          num_encoder_layers = num_encoder_layers,\n",
        "                                          num_decoder_layers = num_decoder_layers,\n",
        "                                          dropout = dropout_p)\n",
        "\n",
        "        # Camada linear\n",
        "        self.out = nn.Linear(dim_model, num_tokens)\n",
        "\n",
        "    # Método forward\n",
        "    def forward(self, src, tgt, tgt_mask = None, src_pad_mask = None, tgt_pad_mask = None):\n",
        "\n",
        "        # Src é uma tupla: (batch_size, comprimento da sequência de origem)\n",
        "        # Tgt é uma tupla: (batch_size, comprimento da sequência destino)\n",
        "\n",
        "        # Embedding para a entrada (src) e a saída (tgt)\n",
        "        src = self.embedding(src) * math.sqrt(self.dim_model)\n",
        "        tgt = self.embedding(tgt) * math.sqrt(self.dim_model)\n",
        "\n",
        "        # Camada posicional da entrada (src) e da saída (tgt)\n",
        "        src = self.positional_encoder(src)\n",
        "        tgt = self.positional_encoder(tgt)\n",
        "\n",
        "        # Poderíamos usar o parâmetro batch_first = True, mas para simplificação\n",
        "        # permutamos para obter o tamanho (comprimento da sequência, batch_size, dim_model)\n",
        "        src = src.permute(1,0,2)\n",
        "        tgt = tgt.permute(1,0,2)\n",
        "\n",
        "        # Bloco Transformer\n",
        "        transformer_out = self.transformer(src,\n",
        "                                           tgt,\n",
        "                                           tgt_mask = tgt_mask,\n",
        "                                           src_key_padding_mask = src_pad_mask,\n",
        "                                           tgt_key_padding_mask = tgt_pad_mask)\n",
        "\n",
        "        # Saída\n",
        "        out = self.out(transformer_out)\n",
        "\n",
        "        return out\n",
        "\n",
        "    # Método para gerar a máscara de saída\n",
        "    def get_tgt_mask(self, size) -> torch.tensor:\n",
        "\n",
        "        # Gera uma matriz quadrada onde cada linha permite que uma palavra a mais seja vista\n",
        "        mask = torch.tril(torch.ones(size, size) == 1)\n",
        "\n",
        "        # Converte para float\n",
        "        mask = mask.float()\n",
        "\n",
        "        # Converte zeros em -inf\n",
        "        mask = mask.masked_fill(mask == 0, float('-inf'))\n",
        "\n",
        "        # Converte uns para 0\n",
        "        mask = mask.masked_fill(mask == 1, float(0.0))\n",
        "\n",
        "        return mask\n",
        "\n",
        "    # Função para criar o pad da máscara\n",
        "    # Se matriz = [1,2,3,0,0,0] onde pad_token=0, a máscara de resultado é [False, False, False, True, True, True]\n",
        "    def create_pad_mask(self, matrix: torch.tensor, pad_token: int) -> torch.tensor:\n",
        "        return (matrix == pad_token)"
      ]
    },
    {
      "cell_type": "markdown",
      "id": "d966d528",
      "metadata": {
        "id": "d966d528"
      },
      "source": [
        "Você deve se lembrar que havia um bloco especial na estrutura do modelo Transformer chamado “masked multi-head attention”.\n",
        "\n",
        "Então... o que é mascaramento? Vamos recapitular rapidamente o que está acontecendo com nossos tensores quando os alimentamos em nosso modelo.\n",
        "\n",
        "Primeiro, incorporamos (embedding) e codificamos (codificação posicional) nosso tensor de origem. Em seguida, nosso tensor de origem é codificado em um tensor que alimentamos em nosso decodificador com nosso vetor de destino incorporado e codificado (posicionalmente). Para que nosso modelo aprenda, não podemos apenas mostrar todo o tensor de destino! Isso apenas daria a ele a resposta direta.\n",
        "\n",
        "A solução para isso é um tensor de máscara. Este tensor é composto por tamanho (comprimento da sequência x comprimento da sequência), pois para cada elemento da sequência, mostramos ao modelo um elemento a mais.\n",
        "\n",
        "Essa matriz será adicionada ao nosso vetor alvo, então a matriz será composta por zeros nas posições onde o transformador pode ter acesso aos elementos, e menos infinito onde não pode. Uma explicação ilustrada pode ajudá-lo um pouco mais:"
      ]
    },
    {
      "cell_type": "markdown",
      "id": "08d5217a",
      "metadata": {
        "id": "08d5217a"
      },
      "source": [
        "![DSA](imagens/fig3.png)"
      ]
    },
    {
      "cell_type": "markdown",
      "id": "2f6c7625",
      "metadata": {
        "id": "2f6c7625"
      },
      "source": [
        "Tensores são matrizes que podem ser armazenadas em uma GPU, e como são matrizes, todas as dimensões devem ter elementos do mesmo tamanho. Claro, isso não acontecerá ao lidar com tarefas como PLN ou imagens de tamanhos diferentes. Portanto, usamos os chamados “tokens especiais”. Esses tokens permitem que nosso modelo saiba onde está o início da frase (<SOS>), onde está o final da frase (<EOS>) e quais elementos estão lá apenas para preencher o espaço restante para que nossas matrizes tenham o mesmo tamanho de sequência (<PAD>). Esses tokens também devem ser convertidos em seu ID inteiro correspondente (em nosso exemplo, eles serão 2, 3 e 4, respectivamente). Preencher uma sequência é mais ou menos assim:"
      ]
    },
    {
      "cell_type": "markdown",
      "id": "8455f22b",
      "metadata": {
        "id": "8455f22b"
      },
      "source": [
        "![DSA](imagens/fig4.png)"
      ]
    },
    {
      "cell_type": "markdown",
      "id": "4eabb7cd",
      "metadata": {
        "id": "4eabb7cd"
      },
      "source": [
        "## Criação do Modelo\n",
        "\n",
        "Vamos criar uma instância do nosso modelo, função de perda e otimizador. Usaremos o otimizador Stochastic Gradient Descent, a função CrossEntropyLoss e uma taxa de aprendizado de 0,01."
      ]
    },
    {
      "cell_type": "code",
      "execution_count": 12,
      "id": "450e61ee",
      "metadata": {
        "id": "450e61ee"
      },
      "outputs": [],
      "source": [
        "# Seleciona o device\n",
        "device = \"cuda\" if torch.cuda.is_available() else \"cpu\""
      ]
    },
    {
      "cell_type": "code",
      "execution_count": 13,
      "id": "96a41594",
      "metadata": {
        "colab": {
          "base_uri": "https://localhost:8080/"
        },
        "id": "96a41594",
        "outputId": "90b61cc8-5506-4c8d-a160-edfacda9fa21"
      },
      "outputs": [
        {
          "output_type": "stream",
          "name": "stdout",
          "text": [
            "cpu\n"
          ]
        }
      ],
      "source": [
        "print(device)"
      ]
    },
    {
      "cell_type": "markdown",
      "id": "b62eb506",
      "metadata": {
        "id": "b62eb506"
      },
      "source": [
        "Se o seu computador tiver GPU, verifique se tem Compute Capability superior a 3 e então instale a plataform CUDA (disponível somente para Windows e Linux).\n",
        "\n",
        "Compute Capability:\n",
        "\n",
        "https://developer.nvidia.com/cuda-gpus\n",
        "\n",
        "Instalação CUDA:\n",
        "\n",
        "https://developer.nvidia.com/cuda-toolkit"
      ]
    },
    {
      "cell_type": "code",
      "execution_count": 14,
      "id": "c81777b5",
      "metadata": {
        "id": "c81777b5"
      },
      "outputs": [],
      "source": [
        "# Hiperparâmetros\n",
        "ntokens = 4\n",
        "dmodel = 8\n",
        "nheads = 2\n",
        "n_encoder_layers = 3\n",
        "n_decoder_layers = 3\n",
        "dropout = 0.1\n",
        "taxa_aprendizado = 0.01"
      ]
    },
    {
      "cell_type": "code",
      "execution_count": 15,
      "id": "551f1cf3",
      "metadata": {
        "id": "551f1cf3"
      },
      "outputs": [],
      "source": [
        "# Modelo\n",
        "modelo = Transformer(num_tokens = ntokens,\n",
        "                     dim_model = dmodel,\n",
        "                     num_heads = nheads,\n",
        "                     num_encoder_layers = n_encoder_layers,\n",
        "                     num_decoder_layers = n_decoder_layers,\n",
        "                     dropout_p = dropout).to(device)"
      ]
    },
    {
      "cell_type": "code",
      "execution_count": 16,
      "id": "61554905",
      "metadata": {
        "id": "61554905"
      },
      "outputs": [],
      "source": [
        "# Otimizador\n",
        "opt = torch.optim.SGD(modelo.parameters(), lr = taxa_aprendizado)"
      ]
    },
    {
      "cell_type": "code",
      "execution_count": 17,
      "id": "4d04a60a-f013-4eda-b056-fc9bb1b1ea79",
      "metadata": {
        "id": "4d04a60a-f013-4eda-b056-fc9bb1b1ea79"
      },
      "outputs": [],
      "source": [
        "# Função de perda\n",
        "loss_fn = nn.CrossEntropyLoss()"
      ]
    },
    {
      "cell_type": "markdown",
      "id": "6c4ba5d5",
      "metadata": {
        "id": "6c4ba5d5"
      },
      "source": [
        "## Loop de Treinamento\n",
        "\n",
        "Agora criamos o loop de treinamento."
      ]
    },
    {
      "cell_type": "code",
      "execution_count": null,
      "id": "7bc6949f-2d59-44c3-8198-037e115106aa",
      "metadata": {
        "colab": {
          "background_save": true
        },
        "id": "7bc6949f-2d59-44c3-8198-037e115106aa"
      },
      "outputs": [],
      "source": [
        "# Função para o loop de treinamento\n",
        "def loop_treino(model, opt, loss_fn, dataloader):\n",
        "\n",
        "    # Coloca o modelo em modo de treino\n",
        "    model.train()\n",
        "\n",
        "    # Variável para o erro total\n",
        "    total_loss = 0\n",
        "\n",
        "    # Loop\n",
        "    for batch in dataloader:\n",
        "\n",
        "        # Carrega um batch\n",
        "        X, y = batch[:, 0], batch[:, 1]\n",
        "\n",
        "        # Colocamos o batch no device (CPU ou GPU)\n",
        "        X, y = torch.tensor(X).to(device), torch.tensor(y).to(device)\n",
        "\n",
        "        # Mudamos o tgt em um, então com o <SOS> prevemos o token na pos 1\n",
        "        y_input = y[:,:-1]\n",
        "        y_expected = y[:,1:]\n",
        "\n",
        "        # Obtemos a máscara para mascarar as próximas palavras\n",
        "        sequence_length = y_input.size(1)\n",
        "        tgt_mask = model.get_tgt_mask(sequence_length).to(device)\n",
        "\n",
        "        # Faz a previsão passando y_input e tgt_mask, além de X\n",
        "        pred = model(X, y_input, tgt_mask)\n",
        "\n",
        "        # Permutar pred para ter o tamanho do lote primeiro\n",
        "        pred = pred.permute(1, 2, 0)\n",
        "\n",
        "        # Função de erro\n",
        "        loss = loss_fn(pred, y_expected)\n",
        "\n",
        "        # Zera os gradientes\n",
        "        opt.zero_grad()\n",
        "\n",
        "        # Backpropagation\n",
        "        loss.backward()\n",
        "\n",
        "        # Passo de otimização\n",
        "        opt.step()\n",
        "\n",
        "        # Calcula o erro total\n",
        "        total_loss += loss.detach().item()\n",
        "\n",
        "    return total_loss / len(dataloader)"
      ]
    },
    {
      "cell_type": "markdown",
      "id": "4ef562dd",
      "metadata": {
        "id": "4ef562dd"
      },
      "source": [
        "## Loop de Validação\n",
        "\n",
        "Agora criamos o loop de validação."
      ]
    },
    {
      "cell_type": "code",
      "execution_count": null,
      "id": "c23630c9-ce84-4996-8d8c-ff7919303331",
      "metadata": {
        "colab": {
          "background_save": true
        },
        "id": "c23630c9-ce84-4996-8d8c-ff7919303331"
      },
      "outputs": [],
      "source": [
        "# Loop de validação\n",
        "def loop_valid(model, loss_fn, dataloader):\n",
        "\n",
        "    # Coloca o modelo em modo de avaliação\n",
        "    model.eval()\n",
        "\n",
        "    # Erro total\n",
        "    total_loss = 0\n",
        "\n",
        "    # Loop pelo dataloader\n",
        "    with torch.no_grad():\n",
        "\n",
        "        for batch in dataloader:\n",
        "            X, y = batch[:, 0], batch[:, 1]\n",
        "            X, y = torch.tensor(X, dtype=torch.long, device=device), torch.tensor(y, dtype=torch.long, device=device)\n",
        "\n",
        "            # Mudamos o tgt em um, então com o <SOS> prevemos o token na pos 1\n",
        "            y_input = y[:,:-1]\n",
        "            y_expected = y[:,1:]\n",
        "\n",
        "            # Obtemos a máscara para mascarar as próximas palavras\n",
        "            sequence_length = y_input.size(1)\n",
        "            tgt_mask = model.get_tgt_mask(sequence_length).to(device)\n",
        "\n",
        "            # Faz a previsão passando y_input e tgt_mask, além de X\n",
        "            pred = model(X, y_input, tgt_mask)\n",
        "\n",
        "            # Permutar pred para ter o tamanho do lote primeiro\n",
        "            pred = pred.permute(1, 2, 0)\n",
        "\n",
        "            # Calcula o erro\n",
        "            loss = loss_fn(pred, y_expected)\n",
        "\n",
        "            # Armazena o erro total\n",
        "            total_loss += loss.detach().item()\n",
        "\n",
        "    return total_loss / len(dataloader)"
      ]
    },
    {
      "cell_type": "markdown",
      "id": "3aec0a6b",
      "metadata": {
        "id": "3aec0a6b"
      },
      "source": [
        "## Treinamento\n",
        "\n",
        "Aqui definimos uma função para treinar o modelo."
      ]
    },
    {
      "cell_type": "code",
      "execution_count": null,
      "id": "5e57ba93-cc8f-4b12-870f-6aed4dce94ab",
      "metadata": {
        "colab": {
          "background_save": true
        },
        "id": "5e57ba93-cc8f-4b12-870f-6aed4dce94ab"
      },
      "outputs": [],
      "source": [
        "# Função para treinar o modelo\n",
        "def treina_modelo(model, opt, loss_fn, train_dataloader, val_dataloader, epochs):\n",
        "\n",
        "    # Listas para armazenar erro em treino e validação\n",
        "    train_loss_list, validation_loss_list = [], []\n",
        "\n",
        "    print(\"\\nIniciando o Treinamento do Modelo...\\n\")\n",
        "    for epoch in range(epochs):\n",
        "\n",
        "        print(\"-\"*25, f\"Epoch {epoch + 1}\",\"-\"*25)\n",
        "\n",
        "        # Executa o loop de treino e calcula o erro\n",
        "        train_loss = loop_treino(model, opt, loss_fn, train_dataloader)\n",
        "        train_loss_list += [train_loss]\n",
        "\n",
        "        # Executa o loop de validação e calcula o erro\n",
        "        validation_loss = loop_valid(model, loss_fn, val_dataloader)\n",
        "        validation_loss_list += [validation_loss]\n",
        "\n",
        "        print(f\"Erro em Treino: {train_loss:.4f}\")\n",
        "        print(f\"Erro em Validação: {validation_loss:.4f}\")\n",
        "        print()\n",
        "\n",
        "    print(\"\\nTreinamento Concluído!\\n\")\n",
        "\n",
        "    return train_loss_list, validation_loss_list"
      ]
    },
    {
      "cell_type": "code",
      "execution_count": null,
      "id": "6ebc9512",
      "metadata": {
        "id": "6ebc9512",
        "outputId": "558ec1d0-320b-41c2-c90d-19f1a9073143"
      },
      "outputs": [
        {
          "name": "stdout",
          "output_type": "stream",
          "text": [
            "\n",
            "Iniciando o Treinamento do Modelo...\n",
            "\n",
            "------------------------- Epoch 1 -------------------------\n",
            "Erro em Treino: 0.5409\n",
            "Erro em Validação: 0.3846\n",
            "\n",
            "------------------------- Epoch 2 -------------------------\n",
            "Erro em Treino: 0.3776\n",
            "Erro em Validação: 0.3094\n",
            "\n",
            "------------------------- Epoch 3 -------------------------\n",
            "Erro em Treino: 0.3169\n",
            "Erro em Validação: 0.2351\n",
            "\n",
            "------------------------- Epoch 4 -------------------------\n",
            "Erro em Treino: 0.2744\n",
            "Erro em Validação: 0.2092\n",
            "\n",
            "------------------------- Epoch 5 -------------------------\n",
            "Erro em Treino: 0.2528\n",
            "Erro em Validação: 0.1798\n",
            "\n",
            "------------------------- Epoch 6 -------------------------\n",
            "Erro em Treino: 0.2379\n",
            "Erro em Validação: 0.1638\n",
            "\n",
            "------------------------- Epoch 7 -------------------------\n",
            "Erro em Treino: 0.2302\n",
            "Erro em Validação: 0.1560\n",
            "\n",
            "------------------------- Epoch 8 -------------------------\n",
            "Erro em Treino: 0.2216\n",
            "Erro em Validação: 0.1626\n",
            "\n",
            "------------------------- Epoch 9 -------------------------\n",
            "Erro em Treino: 0.2166\n",
            "Erro em Validação: 0.1477\n",
            "\n",
            "------------------------- Epoch 10 -------------------------\n",
            "Erro em Treino: 0.2133\n",
            "Erro em Validação: 0.1439\n",
            "\n",
            "\n",
            "Treinamento Concluído!\n",
            "\n",
            "CPU times: user 7min 41s, sys: 27.2 s, total: 8min 8s\n",
            "Wall time: 2min 5s\n"
          ]
        }
      ],
      "source": [
        "%%time\n",
        "train_loss_list, validation_loss_list = treina_modelo(modelo, opt, loss_fn, df_treino, df_valid, 10)"
      ]
    },
    {
      "cell_type": "code",
      "execution_count": null,
      "id": "40f805ad-7748-4785-9066-c5500287a4af",
      "metadata": {
        "colab": {
          "background_save": true
        },
        "id": "40f805ad-7748-4785-9066-c5500287a4af",
        "outputId": "597585c6-8889-464e-860d-f388a288e070"
      },
      "outputs": [
        {
          "data": {
            "image/png": "[encoded data removed]",
            "text/plain": [
              "<Figure size 640x480 with 1 Axes>"
            ]
          },
          "metadata": {},
          "output_type": "display_data"
        }
      ],
      "source": [
        "# Plot\n",
        "plt.plot(train_loss_list, label = \"Erro em Treino\")\n",
        "plt.plot(validation_loss_list, label = \"Erro em Validação\")\n",
        "plt.xlabel('Epoch')\n",
        "plt.ylabel('Loss')\n",
        "plt.title('Loss vs Epoch')\n",
        "plt.legend()\n",
        "plt.show()"
      ]
    },
    {
      "cell_type": "markdown",
      "id": "328ddc87",
      "metadata": {
        "id": "328ddc87"
      },
      "source": [
        "O modelo claramente aprendeu. Hora de usá-lo para fazer previsões."
      ]
    },
    {
      "cell_type": "markdown",
      "id": "6467edaa",
      "metadata": {
        "id": "6467edaa"
      },
      "source": [
        "## Previsões com o Modelo Treinado\n",
        "\n",
        "Nosso modelo aprendeu a prever o próximo token ao receber um elemento. Portanto, devemos ser capazes de fornecer ao nosso modelo o tensor de entrada e o token inicial, e ele deve nos devolver o próximo elemento. Se, quando o modelo prever um token, nós o concatenarmos com nossa entrada anterior, devemos ser capazes de adicionar lentamente palavras à nossa saída até que nosso modelo preveja o token <EOS>."
      ]
    },
    {
      "cell_type": "code",
      "execution_count": null,
      "id": "5df24c30-15b0-471a-ac4d-a0975fbc6a7d",
      "metadata": {
        "colab": {
          "background_save": true
        },
        "id": "5df24c30-15b0-471a-ac4d-a0975fbc6a7d"
      },
      "outputs": [],
      "source": [
        "# Função para as previsões\n",
        "def faz_previsoes(model, input_sequence, max_length = 15, SOS_token = 2, EOS_token = 3):\n",
        "\n",
        "    # Coloca o modelo em modo de avaliação\n",
        "    model.eval()\n",
        "\n",
        "    # Gera y_input\n",
        "    y_input = torch.tensor([[SOS_token]], dtype = torch.long, device = device)\n",
        "\n",
        "    # Número de tokens\n",
        "    num_tokens = len(input_sequence[0])\n",
        "\n",
        "    # Loop\n",
        "    for _ in range(max_length):\n",
        "\n",
        "        # Obtém a máscara de origem\n",
        "        tgt_mask = model.get_tgt_mask(y_input.size(1)).to(device)\n",
        "\n",
        "        # Usa o modelo para fazer previsão\n",
        "        pred = model(input_sequence, y_input, tgt_mask)\n",
        "\n",
        "        # Extrai o valor com mais alta probabilidade\n",
        "        next_item = pred.topk(1)[1].view(-1)[-1].item()\n",
        "        next_item = torch.tensor([[next_item]], device=device)\n",
        "\n",
        "        # Concatena o input com a melhor previsão\n",
        "        y_input = torch.cat((y_input, next_item), dim = 1)\n",
        "\n",
        "        # Para se o modelo previu o fim da sequência\n",
        "        if next_item.view(-1).item() == EOS_token:\n",
        "            break\n",
        "\n",
        "    return y_input.view(-1).tolist()"
      ]
    },
    {
      "cell_type": "code",
      "execution_count": null,
      "id": "RBpKjFT93Lpr",
      "metadata": {
        "colab": {
          "background_save": true
        },
        "id": "RBpKjFT93Lpr"
      },
      "outputs": [],
      "source": [
        "# Novos dados de exemplo (números 2 e 3 são os pads)\n",
        "novos_dados = [\n",
        "    torch.tensor([[2, 0, 0, 0, 0, 0, 0, 0, 0, 3]], dtype=torch.long, device=device),\n",
        "    torch.tensor([[2, 1, 1, 1, 1, 1, 1, 1, 1, 3]], dtype=torch.long, device=device),\n",
        "    torch.tensor([[2, 1, 0, 1, 0, 1, 0, 1, 0, 3]], dtype=torch.long, device=device),\n",
        "    torch.tensor([[2, 0, 1, 0, 1, 0, 1, 0, 1, 3]], dtype=torch.long, device=device),\n",
        "    torch.tensor([[2, 0, 1, 0, 1, 0, 1, 0, 1, 0, 1, 0, 3]], dtype=torch.long, device=device),\n",
        "    torch.tensor([[2, 0, 1, 3]], dtype=torch.long, device=device)\n",
        "]"
      ]
    },
    {
      "cell_type": "code",
      "execution_count": null,
      "id": "72a083d7",
      "metadata": {
        "id": "72a083d7",
        "outputId": "efe2295c-eec1-49ee-b4f1-c4a46e7fb357"
      },
      "outputs": [
        {
          "name": "stdout",
          "output_type": "stream",
          "text": [
            "Índice: 0\n",
            "Input: [0, 0, 0, 0, 0, 0, 0, 0]\n",
            "Continuação: [0, 0, 0, 0, 0, 0, 0, 0, 0]\n",
            "\n",
            "Índice: 1\n",
            "Input: [1, 1, 1, 1, 1, 1, 1, 1]\n",
            "Continuação: [1, 1, 1, 1, 1, 1, 1, 1, 1]\n",
            "\n",
            "Índice: 2\n",
            "Input: [1, 0, 1, 0, 1, 0, 1, 0]\n",
            "Continuação: [1, 0, 1, 0, 1, 0, 1, 0]\n",
            "\n",
            "Índice: 3\n",
            "Input: [0, 1, 0, 1, 0, 1, 0, 1]\n",
            "Continuação: [1, 0, 1, 0, 1, 0, 1, 0]\n",
            "\n",
            "Índice: 4\n",
            "Input: [0, 1, 0, 1, 0, 1, 0, 1, 0, 1, 0]\n",
            "Continuação: [1, 0, 1, 0, 1, 0, 1, 0]\n",
            "\n",
            "Índice: 5\n",
            "Input: [0, 1]\n",
            "Continuação: [0, 1, 0, 1, 0, 1, 0, 1]\n",
            "\n"
          ]
        }
      ],
      "source": [
        "# Loop para fazer as previsões\n",
        "for idx, novo_dado in enumerate(novos_dados):\n",
        "    result = faz_previsoes(modelo, novo_dado)\n",
        "    print(f\"Índice: {idx}\")\n",
        "    print(f\"Input: {novo_dado.view(-1).tolist()[1:-1]}\")\n",
        "    print(f\"Continuação: {result[1:-1]}\")\n",
        "    print()"
      ]
    },
    {
      "cell_type": "markdown",
      "id": "c53e3fda",
      "metadata": {
        "id": "c53e3fda"
      },
      "source": [
        "# Fim"
      ]
    }
  ],
  "metadata": {
    "colab": {
      "provenance": []
    },
    "kernelspec": {
      "display_name": "Python 3 (ipykernel)",
      "language": "python",
      "name": "python3"
    },
    "language_info": {
      "codemirror_mode": {
        "name": "ipython",
        "version": 3
      },
      "file_extension": ".py",
      "mimetype": "text/x-python",
      "name": "python",
      "nbconvert_exporter": "python",
      "pygments_lexer": "ipython3",
      "version": "3.9.13"
    }
  },
  "nbformat": 4,
  "nbformat_minor": 5
}