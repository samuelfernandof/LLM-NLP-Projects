{
  "cells": [
    {
      "cell_type": "markdown",
      "metadata": {
        "id": "view-in-github",
        "colab_type": "text"
      },
      "source": [
        "<a href=\"https://colab.research.google.com/github/samuelfernandof/LLM-NLP-Projects/blob/main/Modelos%20Generativos%20Pr%C3%A9-Treinados%20em%20Processamento%20de%20Linguagem%20Natural%20com%20PyTorch.ipynb\" target=\"_parent\"><img src=\"https://colab.research.google.com/assets/colab-badge.svg\" alt=\"Open In Colab\"/></a>"
      ]
    },
    {
      "cell_type": "markdown",
      "metadata": {
        "id": "Ia6zF8jYkS5B"
      },
      "source": [
        "### <font color='blue'>Aplicando Modelos Generativos Pré-Treinados em Processamento de Linguagem Natural com PyTorch</font>"
      ]
    },
    {
      "cell_type": "markdown",
      "metadata": {
        "id": "5BEhuCbbkS5D"
      },
      "source": [
        "**O Que São e Como Usar Modelos Pré-Treinados?**\n",
        "\n",
        "Os modelos pré-treinados são modelos de Inteligência Artificial que foram previamente treinados em uma grande quantidade de dados e podem ser reutilizados para resolver novos problemas sem a necessidade de treinamento adicional. Eles são usados como base para soluções de aprendizado profundo em uma ampla variedade de aplicações, como processamento de linguagem natural, classificação de imagens e extração de características.\n",
        "\n",
        "Para usar um modelo pré-treinado, você pode transferir seus pesos (valores aprendidos) para uma nova tarefa específica, adicionar camadas adicionais para ajustar a saída para sua tarefa específica, ou congelar algumas camadas para evitar que sejam atualizadas durante o treinamento. É importante destacar que, em alguns casos, pode ser necessário ajustar o tamanho da entrada ou da saída para se adequar ao modelo pré-treinado.\n",
        "\n",
        "**Repositório de Modelos Pré-Treinados:**\n",
        "    \n",
        "https://huggingface.co/"
      ]
    },
    {
      "cell_type": "code",
      "execution_count": null,
      "metadata": {
        "id": "owpzsXdVkS5D",
        "outputId": "3c68fd41-c24d-42fe-99b2-67c415014936"
      },
      "outputs": [
        {
          "name": "stdout",
          "output_type": "stream",
          "text": [
            "Versão da Linguagem Python Usada Neste Jupyter Notebook: 3.9.13\n"
          ]
        }
      ],
      "source": [
        "# Versão da Linguagem Python\n",
        "from platform import python_version\n",
        "print('Versão da Linguagem Python Usada Neste Jupyter Notebook:', python_version())"
      ]
    },
    {
      "cell_type": "code",
      "execution_count": null,
      "metadata": {
        "id": "bG4zrJDgkS5E"
      },
      "outputs": [],
      "source": [
        "# Para atualizar um pacote, execute o comando abaixo no terminal ou prompt de comando:\n",
        "# pip install -U nome_pacote\n",
        "\n",
        "# Para instalar a versão exata de um pacote, execute o comando abaixo no terminal ou prompt de comando:\n",
        "# !pip install nome_pacote==versão_desejada\n",
        "\n",
        "# Depois de instalar ou atualizar o pacote, reinicie o jupyter notebook.\n",
        "\n",
        "# Instala o pacote watermark.\n",
        "# Esse pacote é usado para gravar as versões de outros pacotes usados neste jupyter notebook.\n",
        "!pip install -q -U watermark"
      ]
    },
    {
      "cell_type": "code",
      "execution_count": null,
      "metadata": {
        "id": "KN679tdWkS5E"
      },
      "outputs": [],
      "source": [
        "# https://pypi.org/project/torch/\n",
        "!pip install -q torch==1.13.0"
      ]
    },
    {
      "cell_type": "code",
      "execution_count": null,
      "metadata": {
        "id": "y1ZnqFz-kS5E"
      },
      "outputs": [],
      "source": [
        "# https://pypi.org/project/torchvision/\n",
        "!pip install -q torchvision==0.14.0"
      ]
    },
    {
      "cell_type": "code",
      "execution_count": null,
      "metadata": {
        "id": "SsJZXrCdkS5E"
      },
      "outputs": [],
      "source": [
        "# https://pypi.org/project/datasets/\n",
        "!pip install -q datasets"
      ]
    },
    {
      "cell_type": "code",
      "execution_count": null,
      "metadata": {
        "id": "EGwT7gzMkS5F"
      },
      "outputs": [],
      "source": [
        "# https://pypi.org/project/transformers/\n",
        "!pip install -q transformers"
      ]
    },
    {
      "cell_type": "code",
      "execution_count": null,
      "metadata": {
        "id": "zNhgNJGHkS5F"
      },
      "outputs": [],
      "source": [
        "# https://pypi.org/project/sentence-transformers/\n",
        "!pip install -q sentence-transformers"
      ]
    },
    {
      "cell_type": "code",
      "execution_count": null,
      "metadata": {
        "id": "pR4W77A8kS5F"
      },
      "outputs": [],
      "source": [
        "# Imports\n",
        "import torch\n",
        "import sklearn\n",
        "import torchvision\n",
        "import transformers\n",
        "from transformers import pipeline\n",
        "from sentence_transformers import SentenceTransformer\n",
        "import warnings\n",
        "warnings.filterwarnings(\"ignore\")"
      ]
    },
    {
      "cell_type": "code",
      "execution_count": null,
      "metadata": {
        "id": "w_-GnYCTkS5F",
        "outputId": "7c219cec-31c0-4b98-9a0d-3a7ef4fbcbd6"
      },
      "outputs": [
        {
          "name": "stdout",
          "output_type": "stream",
          "text": [
            "Author: Data Science Academy\n",
            "\n",
            "sklearn     : 1.0.2\n",
            "torchvision : 0.14.0\n",
            "transformers: 4.26.0\n",
            "torch       : 1.13.0\n",
            "\n"
          ]
        }
      ],
      "source": [
        "# Versões dos pacotes usados neste jupyter notebook\n",
        "%reload_ext watermark\n",
        "%watermark -a \"Data Science Academy\" --iversions"
      ]
    },
    {
      "cell_type": "markdown",
      "metadata": {
        "id": "-fMp3lFn9b9L"
      },
      "source": [
        "## Análise de Sentimentos\n",
        "\n",
        "Análise de sentimentos é uma técnica de Processamento de Linguagem Natural que visa identificar e classificar emoções, opiniões ou atitudes em relação a um determinado assunto, conteúdo ou objeto. Isso é feito com base em uma coleção de dados previamente classificados, como textos, áudios ou vídeos, e aplicando algoritmos de aprendizado de máquina para detectar padrões e classificar novos dados. A análise de sentimentos é amplamente utilizada em diversas aplicações, como análise de mídia social, avaliação de produtos e serviços, e monitoramento de opiniões públicas.\n",
        "\n",
        "Modelo Pré-Treinado:\n",
        "\n",
        "https://huggingface.co/citizenlab/twitter-xlm-roberta-base-sentiment-finetunned"
      ]
    },
    {
      "cell_type": "code",
      "execution_count": null,
      "metadata": {
        "id": "99ufm_LgkS5F"
      },
      "outputs": [],
      "source": [
        "# Define o modelo a ser usado\n",
        "modelo_1 = \"citizenlab/twitter-xlm-roberta-base-sentiment-finetunned\""
      ]
    },
    {
      "cell_type": "code",
      "execution_count": null,
      "metadata": {
        "id": "cmlC5CosGn4G"
      },
      "outputs": [],
      "source": [
        "# Cria o classificador\n",
        "classificador = pipeline(\"sentiment-analysis\", model = modelo_1, tokenizer = modelo_1)"
      ]
    },
    {
      "cell_type": "code",
      "execution_count": null,
      "metadata": {
        "colab": {
          "base_uri": "https://localhost:8080/"
        },
        "id": "X8IXROZ6qIp9",
        "outputId": "64f8970e-2353-429d-ca4b-f954dcc99870"
      },
      "outputs": [
        {
          "data": {
            "text/plain": [
              "[{'label': 'Positive', 'score': 0.9927366971969604}]"
            ]
          },
          "execution_count": 12,
          "metadata": {},
          "output_type": "execute_result"
        }
      ],
      "source": [
        "# Aplica o classificador\n",
        "classificador(\"Eu estou gostando muito deste curso.\")"
      ]
    },
    {
      "cell_type": "code",
      "execution_count": null,
      "metadata": {
        "colab": {
          "base_uri": "https://localhost:8080/"
        },
        "id": "e4LyGSU6Cst3",
        "outputId": "6742bd05-bcc4-45fd-da95-b8571d855805"
      },
      "outputs": [
        {
          "data": {
            "text/plain": [
              "[{'label': 'Neutral', 'score': 0.5241102576255798}]"
            ]
          },
          "execution_count": 13,
          "metadata": {},
          "output_type": "execute_result"
        }
      ],
      "source": [
        "# Aplica o classificador\n",
        "classificador(\"Eu não gosto de Abacate e por isso não como essa fruta.\")"
      ]
    },
    {
      "cell_type": "code",
      "execution_count": null,
      "metadata": {
        "colab": {
          "base_uri": "https://localhost:8080/"
        },
        "id": "I82V7qIlGn4H",
        "outputId": "d29266d3-e10d-4349-ad3f-9e1628d2c7f9"
      },
      "outputs": [
        {
          "data": {
            "text/plain": [
              "[{'label': 'Positive', 'score': 0.5000373721122742},\n",
              " {'label': 'Negative', 'score': 0.9852501749992371}]"
            ]
          },
          "execution_count": 14,
          "metadata": {},
          "output_type": "execute_result"
        }
      ],
      "source": [
        "# Aplica o classificador\n",
        "classificador([\"Eu gosto de ler livros sobre programação.\", \"Eu odeio redes sociais!\"])"
      ]
    },
    {
      "cell_type": "markdown",
      "metadata": {
        "id": "1apqb0ma90aR"
      },
      "source": [
        "## Classificação Zero-Shot\n",
        "\n",
        "Classificação Zero-Shot é uma técnica de aprendizado de máquina que permite classificar objetos em categorias sem ter visto exemplos de treinamento para essas categorias específicas. Em outras palavras, ao invés de treinar um modelo de aprendizado de máquina com dados previamente rotulados para cada categoria, a Classificação Zero-Shot usa informações semânticas ou descrições das categorias, como atributos ou palavras-chave, para realizar a classificação. Essa técnica é particularmente útil em casos em que existem muitas categorias ou quando é necessário lidar com novas categorias que não foram previamente vistas durante o treinamento do modelo.\n",
        "\n",
        "Modelo Pré-Treinado:\n",
        "\n",
        "https://huggingface.co/facebook/bart-large-mnli"
      ]
    },
    {
      "cell_type": "code",
      "execution_count": null,
      "metadata": {
        "id": "K52cOL_rkS5G"
      },
      "outputs": [],
      "source": [
        "# Define o modelo a ser usado\n",
        "modelo_2 = \"facebook/bart-large-mnli\""
      ]
    },
    {
      "cell_type": "code",
      "execution_count": null,
      "metadata": {
        "id": "INlufCAiGn4J"
      },
      "outputs": [],
      "source": [
        "# Cria o pipeline\n",
        "classificador = pipeline(\"zero-shot-classification\", model = modelo_2)"
      ]
    },
    {
      "cell_type": "code",
      "execution_count": null,
      "metadata": {
        "colab": {
          "base_uri": "https://localhost:8080/"
        },
        "id": "atDByNipDV4K",
        "outputId": "5a264f76-ec2d-4e3a-e9ba-180f0a9b0d21"
      },
      "outputs": [
        {
          "data": {
            "text/plain": [
              "{'sequence': 'Este é um curso sobre Transformers para Processamento de Linguagem Natural.',\n",
              " 'labels': ['Educação', 'Política', 'Business'],\n",
              " 'scores': [0.49541381001472473, 0.41976165771484375, 0.08482454717159271]}"
            ]
          },
          "execution_count": 17,
          "metadata": {},
          "output_type": "execute_result"
        }
      ],
      "source": [
        "# Executa o classificador indicando as possíveis categorias\n",
        "classificador(\"Este é um curso sobre Transformers para Processamento de Linguagem Natural.\",\n",
        "              candidate_labels = [\"Educação\", \"Política\", \"Business\"])"
      ]
    },
    {
      "cell_type": "code",
      "execution_count": null,
      "metadata": {
        "colab": {
          "base_uri": "https://localhost:8080/"
        },
        "id": "4cXIGNbOHyQW",
        "outputId": "e0a06cd4-e6d2-4bd6-ee16-2db145e3be08"
      },
      "outputs": [
        {
          "data": {
            "text/plain": [
              "[{'sequence': 'This year, a new law on animal rights was enacted.',\n",
              "  'labels': ['justice',\n",
              "   'sport',\n",
              "   'space',\n",
              "   'business',\n",
              "   'politics',\n",
              "   'art',\n",
              "   'music',\n",
              "   'education'],\n",
              "  'scores': [0.4962727427482605,\n",
              "   0.1233614981174469,\n",
              "   0.08853249996900558,\n",
              "   0.07567930966615677,\n",
              "   0.07199753820896149,\n",
              "   0.0601637065410614,\n",
              "   0.044623151421546936,\n",
              "   0.03936954215168953]},\n",
              " {'sequence': 'The world cup will was held in qatar in 2022',\n",
              "  'labels': ['sport',\n",
              "   'space',\n",
              "   'business',\n",
              "   'justice',\n",
              "   'music',\n",
              "   'art',\n",
              "   'politics',\n",
              "   'education'],\n",
              "  'scores': [0.9264568090438843,\n",
              "   0.020199649035930634,\n",
              "   0.012847920879721642,\n",
              "   0.012104946188628674,\n",
              "   0.009082834236323833,\n",
              "   0.008042543195188046,\n",
              "   0.007204526104032993,\n",
              "   0.004060797858983278]},\n",
              " {'sequence': 'I prefer the songs from the 90s compared to the songs of today.',\n",
              "  'labels': ['music',\n",
              "   'space',\n",
              "   'justice',\n",
              "   'business',\n",
              "   'sport',\n",
              "   'education',\n",
              "   'art',\n",
              "   'politics'],\n",
              "  'scores': [0.9060342311859131,\n",
              "   0.026186374947428703,\n",
              "   0.020438339561223984,\n",
              "   0.014898770488798618,\n",
              "   0.011381955817341805,\n",
              "   0.009014158509671688,\n",
              "   0.008307678624987602,\n",
              "   0.0037385716568678617]}]"
            ]
          },
          "execution_count": 18,
          "metadata": {},
          "output_type": "execute_result"
        }
      ],
      "source": [
        "# Executa o classificador indicando as possíveis categorias\n",
        "classificador(\n",
        "    [\"This year, a new law on animal rights was enacted.\",\n",
        "     \"The world cup will was held in qatar in 2022\",\n",
        "     \"I prefer the songs from the 90s compared to the songs of today.\"],\n",
        "    candidate_labels = [\"education\", \"politics\", \"business\", \"art\", \"sport\", \"justice\", \"music\", \"space\"],\n",
        ")"
      ]
    },
    {
      "cell_type": "markdown",
      "metadata": {
        "id": "m_FbEse4_l8o"
      },
      "source": [
        "## Geração de Texto\n",
        "\n",
        "Geração de Texto em PLN (Processamento de Linguagem Natural) é a tarefa de produzir texto automaticamente com base em dados ou modelos previamente treinados. É uma área de pesquisa ativa em PLN que envolve a aplicação de técnicas de aprendizado de máquina, linguística e outras ciências computacionais para produzir texto que seja natural e coerente. A geração de texto pode ser usada em aplicações como chatbots, assistentes virtuais, geração automática de notícias ou resumos, entre outras. Alguns dos desafios enfrentados na geração de texto incluem a produção de texto coerente, a geração de texto relevante e a geração de texto que siga padrões de escrita e estilo específicos.\n",
        "\n",
        "Modelo Pré-Treinado:\n",
        "\n",
        "https://huggingface.co/gpt2-large"
      ]
    },
    {
      "cell_type": "code",
      "execution_count": null,
      "metadata": {
        "id": "UjvRohiGkS5G"
      },
      "outputs": [],
      "source": [
        "# Define o modelo a ser usado\n",
        "modelo_3 = 'gpt2-large'"
      ]
    },
    {
      "cell_type": "code",
      "execution_count": null,
      "metadata": {
        "id": "MFrbrpFlGn4K"
      },
      "outputs": [],
      "source": [
        "# Cria o pipeline\n",
        "gerador_texto = pipeline(\"text-generation\", model = modelo_3)"
      ]
    },
    {
      "cell_type": "code",
      "execution_count": null,
      "metadata": {
        "colab": {
          "base_uri": "https://localhost:8080/"
        },
        "id": "HKMnMsUtEAzr",
        "outputId": "41b1bab2-f9f5-421e-bc2a-d3feafeef607"
      },
      "outputs": [
        {
          "name": "stderr",
          "output_type": "stream",
          "text": [
            "Setting `pad_token_id` to `eos_token_id`:50256 for open-end generation.\n"
          ]
        },
        {
          "data": {
            "text/plain": [
              "[{'generated_text': \"In this course I am going to learn how to apply Deep Learning and Artificial Intelligence to problem that I feel can't be answered with data modeling alone, I am going to work with R, Matlab, Python, and Matlab scripts in combination to\"}]"
            ]
          },
          "execution_count": 21,
          "metadata": {},
          "output_type": "execute_result"
        }
      ],
      "source": [
        "gerador_texto(\"In this course I am going to learn how to apply Deep Learning and\")"
      ]
    },
    {
      "cell_type": "code",
      "execution_count": null,
      "metadata": {
        "id": "WoZ5IxWOkS5G",
        "outputId": "9ea34cbe-e5d3-41fb-e883-ec94f15ef463"
      },
      "outputs": [
        {
          "name": "stderr",
          "output_type": "stream",
          "text": [
            "Setting `pad_token_id` to `eos_token_id`:50256 for open-end generation.\n"
          ]
        },
        {
          "data": {
            "text/plain": [
              "[{'generated_text': 'In the future people will be more gentle to each other and those who are in a position of power. The power of the state is one important aspect.\"\\n\\nAt a reception to commemorate the birth of the \"Queen Mother,\" Ms. Lee appeared'}]"
            ]
          },
          "execution_count": 22,
          "metadata": {},
          "output_type": "execute_result"
        }
      ],
      "source": [
        "gerador_texto(\"In the future people will be more gentle to each other\")"
      ]
    },
    {
      "cell_type": "markdown",
      "metadata": {
        "id": "c4kPFGCm_yGk"
      },
      "source": [
        "## Prevendo a Próxima Palavra em Um Texto\n",
        "\n",
        "Modelo Pré-Treinado:\n",
        "\n",
        "https://huggingface.co/distilroberta-base"
      ]
    },
    {
      "cell_type": "code",
      "execution_count": null,
      "metadata": {
        "id": "yLgLSpdukS5H"
      },
      "outputs": [],
      "source": [
        "# Define o modelo a ser usado\n",
        "modelo_4 = 'distilroberta-base'"
      ]
    },
    {
      "cell_type": "code",
      "execution_count": null,
      "metadata": {
        "id": "LcBfe5GTGn4N"
      },
      "outputs": [],
      "source": [
        "# Pipeline\n",
        "prever_palavra = pipeline(\"fill-mask\", model = modelo_4)"
      ]
    },
    {
      "cell_type": "code",
      "execution_count": null,
      "metadata": {
        "colab": {
          "base_uri": "https://localhost:8080/"
        },
        "id": "YgMW8BfBGJMs",
        "outputId": "11d65571-eea4-46b1-91e2-267f99eaec86"
      },
      "outputs": [
        {
          "data": {
            "text/plain": [
              "[{'score': 0.19619810581207275,\n",
              "  'token': 30412,\n",
              "  'token_str': ' mathematical',\n",
              "  'sequence': 'This course will teach you all about mathematical models.'},\n",
              " {'score': 0.04052736610174179,\n",
              "  'token': 38163,\n",
              "  'token_str': ' computational',\n",
              "  'sequence': 'This course will teach you all about computational models.'}]"
            ]
          },
          "execution_count": 25,
          "metadata": {},
          "output_type": "execute_result"
        }
      ],
      "source": [
        "prever_palavra(\"This course will teach you all about <mask> models.\", top_k = 2)"
      ]
    },
    {
      "cell_type": "markdown",
      "metadata": {
        "id": "_z3u-uSEADNw"
      },
      "source": [
        "## Named Entity Recognition (Classificação de Token)\n",
        "\n",
        "Reconhecimento de Entidades Nomeadas (NER, na sigla em inglês), também conhecido como Classificação de Tokens, é uma tarefa em Processamento de Linguagem Natural (PLN) onde entidades nomeadas, como pessoas, organizações, locais, etc., são identificadas e classificadas em um texto. O objetivo do NER é extrair informações estruturadas a partir de dados de texto não estruturados e categorizar as entidades em categorias pré-definidas, como pessoa, local, organização, etc. Sistemas de NER usam técnicas como métodos baseados em regras, métodos baseados em dicionários e métodos baseados em aprendizado de máquina para realizar o reconhecimento e classificação de entidades nomeadas. O NER é uma etapa importante em muitas aplicações de PLN, incluindo recuperação de informações, resposta a perguntas e extração de eventos.\n",
        "\n",
        "Modelo Pré-Treinado:\n",
        "\n",
        "https://huggingface.co/dbmdz/bert-large-cased-finetuned-conll03-english"
      ]
    },
    {
      "cell_type": "code",
      "execution_count": null,
      "metadata": {
        "id": "mY5dXPDjkS5H"
      },
      "outputs": [],
      "source": [
        "# Define o modelo a ser usado\n",
        "modelo_5 = 'dbmdz/bert-large-cased-finetuned-conll03-english'"
      ]
    },
    {
      "cell_type": "code",
      "execution_count": null,
      "metadata": {
        "id": "rqihLHQ4Gn4O"
      },
      "outputs": [],
      "source": [
        "# Cria o pipeline\n",
        "ner = pipeline(\"ner\", model = modelo_5, grouped_entities = True)"
      ]
    },
    {
      "cell_type": "code",
      "execution_count": null,
      "metadata": {
        "colab": {
          "base_uri": "https://localhost:8080/"
        },
        "id": "-TIv-ht-Gy9Z",
        "outputId": "4dc67bce-8299-4e1c-afef-5978c3486699"
      },
      "outputs": [
        {
          "data": {
            "text/plain": [
              "[{'entity_group': 'PER',\n",
              "  'score': 0.99924123,\n",
              "  'word': 'Bob',\n",
              "  'start': 12,\n",
              "  'end': 15},\n",
              " {'entity_group': 'ORG',\n",
              "  'score': 0.99933344,\n",
              "  'word': 'Microsoft',\n",
              "  'start': 32,\n",
              "  'end': 41},\n",
              " {'entity_group': 'LOC',\n",
              "  'score': 0.99975616,\n",
              "  'word': 'USA',\n",
              "  'start': 45,\n",
              "  'end': 48},\n",
              " {'entity_group': 'MISC',\n",
              "  'score': 0.9722649,\n",
              "  'word': 'Honda Civic',\n",
              "  'start': 62,\n",
              "  'end': 73}]"
            ]
          },
          "execution_count": 28,
          "metadata": {},
          "output_type": "execute_result"
        }
      ],
      "source": [
        "ner(\"His name is Bob and he works at Microsoft in USA. He drives a Honda Civic and likes to play soccer.\")"
      ]
    },
    {
      "cell_type": "markdown",
      "metadata": {
        "id": "5sarpURkAlBm"
      },
      "source": [
        "## Perguntas e Respostas\n",
        "\n",
        "A resposta a perguntas (Question-answering - QA) em PLN refere-se à tarefa de responder automaticamente a perguntas feitas em texto de linguagem natural. O objetivo desses sistemas é entender a questão, recuperar informações relevantes de uma fonte, como um banco de dados ou um documento, e gerar uma resposta na forma de uma resposta de texto. Esses sistemas usam várias técnicas de PLN, como recuperação de informações, resumo de texto, reconhecimento de entidade nomeada e aprendizado de máquina para extrair informações relevantes e gerar uma resposta. A resposta a perguntas é uma tarefa desafiadora em PLN, pois requer a capacidade de entender questões complexas de linguagem natural e recuperar informações relevantes de um grande corpus de dados de texto. Esses sistemas são usados em várias aplicações, incluindo atendimento ao cliente, gerenciamento de conhecimento e tecnologia educacional.\n",
        "\n",
        "Modelo Pré-Treinado:\n",
        "\n",
        "https://huggingface.co/distilbert-base-cased-distilled-squad"
      ]
    },
    {
      "cell_type": "code",
      "execution_count": null,
      "metadata": {
        "id": "R9wpR2dAkS5H"
      },
      "outputs": [],
      "source": [
        "# Define o modelo a ser usado\n",
        "modelo_6 = 'distilbert-base-cased-distilled-squad'"
      ]
    },
    {
      "cell_type": "code",
      "execution_count": null,
      "metadata": {
        "id": "wgt_nuahGn4P"
      },
      "outputs": [],
      "source": [
        "# Criando o pipeline\n",
        "question_answerer = pipeline(\"question-answering\", model = modelo_6)"
      ]
    },
    {
      "cell_type": "code",
      "execution_count": null,
      "metadata": {
        "colab": {
          "base_uri": "https://localhost:8080/"
        },
        "id": "gY99r3WrHMe4",
        "outputId": "d589baa0-6b39-4833-d9c1-36d54c729034"
      },
      "outputs": [
        {
          "data": {
            "text/plain": [
              "{'score': 0.5150975584983826, 'start': 36, 'end': 45, 'answer': 'Microsoft'}"
            ]
          },
          "execution_count": 31,
          "metadata": {},
          "output_type": "execute_result"
        }
      ],
      "source": [
        "question_answerer(\n",
        "    question = \"Where does Bob work?\",\n",
        "    context = \"Several tech professionals work for Microsoft in USA.\",\n",
        ")"
      ]
    },
    {
      "cell_type": "code",
      "execution_count": null,
      "metadata": {
        "colab": {
          "base_uri": "https://localhost:8080/"
        },
        "id": "hAJLCbzQPJGs",
        "outputId": "373f8f70-3a71-4ae8-f13f-2ea626f0dadd"
      },
      "outputs": [
        {
          "data": {
            "text/plain": [
              "[{'score': 0.47943535447120667, 'start': 29, 'end': 38, 'answer': 'Microsoft'},\n",
              " {'score': 0.9943744540214539, 'start': 42, 'end': 45, 'answer': 'USA'},\n",
              " {'score': 0.9971503019332886, 'start': 11, 'end': 14, 'answer': 'Bob'}]"
            ]
          },
          "execution_count": 32,
          "metadata": {},
          "output_type": "execute_result"
        }
      ],
      "source": [
        "question_answerer(\n",
        "    question = [\"Where do you work?\", \"In which country do you work?\", \"what is your name?\"],\n",
        "        context = \"My name is Bob and I work at Microsoft in USA.\",\n",
        ")"
      ]
    },
    {
      "cell_type": "markdown",
      "metadata": {
        "id": "TE-nVno0Ar38"
      },
      "source": [
        "## Sumarização de Texto\n",
        "\n",
        "Sumarização de Texto em Processamento de Linguagem Natural (PLN) é a tarefa de produzir uma representação resumida e concisa de um texto original. O objetivo da sumarização é capturar a essência do texto original e apresentá-lo de forma mais clara e concisa, sem perda de informação importante. A sumarização de texto pode ser realizada de duas formas: abstrata ou extrativa. A sumarização abstrata gera um resumo condensado usando uma linguagem diferente da original, enquanto a sumarização extrativa seleciona fragmentos de texto existentes da fonte original para criar o resumo. A sumarização de texto é amplamente utilizada em aplicações como notícias, resumos de documentos, análise de tendências, entre outras. A sumarização de texto desafiante em PLN, pois requer a compreensão do significado subjacente do texto e a habilidade de identificar e selecionar informações relevantes.\n",
        "\n",
        "Modelo Pré-Treinado:\n",
        "\n",
        "https://huggingface.co/sshleifer/distilbart-cnn-12-6"
      ]
    },
    {
      "cell_type": "code",
      "execution_count": null,
      "metadata": {
        "id": "n9i6PaWlkS5L"
      },
      "outputs": [],
      "source": [
        "# Define o modelo a ser usado\n",
        "modelo_7 = 'sshleifer/distilbart-cnn-12-6'"
      ]
    },
    {
      "cell_type": "code",
      "execution_count": null,
      "metadata": {
        "id": "M1RgAvOzGn4Q"
      },
      "outputs": [],
      "source": [
        "# Pipeline\n",
        "summarizer = pipeline(\"summarization\", model = modelo_7)"
      ]
    },
    {
      "cell_type": "code",
      "execution_count": null,
      "metadata": {
        "colab": {
          "base_uri": "https://localhost:8080/"
        },
        "id": "oo9Co91ZHWQF",
        "outputId": "090b42fe-95c3-4ae8-a8a5-2d598983f7ba"
      },
      "outputs": [
        {
          "data": {
            "text/plain": [
              "[{'summary_text': ' America has changed dramatically during recent years . The number of engineering graduates in the U.S. has declined in traditional engineering disciplines such as mechanical, civil,    electrical, chemical, and aeronautical engineering . Rapidly developing economies such as China and India continue to encourage and advance the teaching of engineering .'}]"
            ]
          },
          "execution_count": 35,
          "metadata": {},
          "output_type": "execute_result"
        }
      ],
      "source": [
        "# Aplica o sumarizador\n",
        "summarizer(\n",
        "    \"\"\"\n",
        "    America has changed dramatically during recent years. Not only has the number of\n",
        "    graduates in traditional engineering disciplines such as mechanical, civil,\n",
        "    electrical, chemical, and aeronautical engineering declined, but in most of\n",
        "    the premier American universities engineering curricula now concentrate on\n",
        "    and encourage largely the study of engineering science. As a result, there\n",
        "    are declining offerings in engineering subjects dealing with infrastructure,\n",
        "    the environment, and related issues, and greater concentration on high\n",
        "    technology subjects, largely supporting increasingly complex scientific\n",
        "    developments. While the latter is important, it should not be at the expense\n",
        "    of more traditional engineering.\n",
        "\n",
        "    Rapidly developing economies such as China and India, as well as other\n",
        "    industrial countries in Europe and Asia, continue to encourage and advance\n",
        "    the teaching of engineering. Both China and India, respectively, graduate\n",
        "    six and eight times as many traditional engineers as does the United States.\n",
        "    Other industrial countries at minimum maintain their output, while America\n",
        "    suffers an increasingly serious decline in the number of engineering graduates\n",
        "    and a lack of well-educated engineers.\n",
        "\"\"\"\n",
        ")"
      ]
    },
    {
      "cell_type": "markdown",
      "metadata": {
        "id": "Y3AZOHN7BbOu"
      },
      "source": [
        "## Tradução de Idioma\n",
        "\n",
        "A tradução de idioma em Processamento de Linguagem Natural (PLN) é o processo de transformar um texto escrito em uma língua para outra língua utilizando técnicas e tecnologias de PLN. O objetivo é produzir uma tradução precisa e coerente que mantenha o significado original do texto original. Esta tarefa pode ser realizada por sistemas de tradução automática ou por tradutores humanos assistidos por tecnologia.\n",
        "\n",
        "Modelo Pré-Treinado:\n",
        "\n",
        "https://huggingface.co/Helsinki-NLP/opus-mt-es-en"
      ]
    },
    {
      "cell_type": "code",
      "execution_count": null,
      "metadata": {
        "id": "-fdvNmPTkS5L"
      },
      "outputs": [],
      "source": [
        "# Define o modelo a ser usado\n",
        "modelo_8 = 'Helsinki-NLP/opus-mt-es-en'"
      ]
    },
    {
      "cell_type": "code",
      "execution_count": null,
      "metadata": {
        "id": "KsAzmkaYGn4R"
      },
      "outputs": [],
      "source": [
        "# Pipeline\n",
        "translator = pipeline(\"translation\", model = modelo_8)"
      ]
    },
    {
      "cell_type": "code",
      "execution_count": null,
      "metadata": {
        "colab": {
          "base_uri": "https://localhost:8080/"
        },
        "id": "M0yi71KGBkDC",
        "outputId": "975d1494-7969-44d2-f71d-63176a1a001d"
      },
      "outputs": [
        {
          "data": {
            "text/plain": [
              "[{'translation_text': 'America changed dramatically over the last few years.'}]"
            ]
          },
          "execution_count": 38,
          "metadata": {},
          "output_type": "execute_result"
        }
      ],
      "source": [
        "translator(\"América cambió drásticamente los últimos años.\")"
      ]
    },
    {
      "cell_type": "markdown",
      "metadata": {
        "id": "jr83rcgFfUXc"
      },
      "source": [
        "# Fim"
      ]
    }
  ],
  "metadata": {
    "accelerator": "GPU",
    "colab": {
      "provenance": [],
      "include_colab_link": true
    },
    "gpuClass": "standard",
    "kernelspec": {
      "display_name": "Python 3 (ipykernel)",
      "language": "python",
      "name": "python3"
    },
    "language_info": {
      "codemirror_mode": {
        "name": "ipython",
        "version": 3
      },
      "file_extension": ".py",
      "mimetype": "text/x-python",
      "name": "python",
      "nbconvert_exporter": "python",
      "pygments_lexer": "ipython3",
      "version": "3.9.13"
    }
  },
  "nbformat": 4,
  "nbformat_minor": 0
}