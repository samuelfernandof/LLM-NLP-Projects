{
 "cells": [
  {
   "cell_type": "code",
   "execution_count": null,
   "id": "4a029ba0-465e-4083-b341-7f521b98b3af",
   "metadata": {},
   "outputs": [],
   "source": [
    "!pip install anthropic"
   ]
  },
  {
   "cell_type": "code",
   "execution_count": null,
   "id": "b991e99b-99b3-4bae-bb4a-d260fe31eb4a",
   "metadata": {},
   "outputs": [],
   "source": [
    "!pip install anthropic IPython boto3 botocore"
   ]
  },
  {
   "cell_type": "code",
   "execution_count": 124,
   "id": "e1d016f5-02cf-421a-879c-491f0e197a2b",
   "metadata": {},
   "outputs": [],
   "source": [
    "import boto3\n",
    "import json\n",
    "import base64\n",
    "from anthropic import AnthropicBedrock\n",
    "from IPython.display import Image, JSON\n",
    "from io import BytesIO\n",
    "from botocore.config import Config\n",
    "\n",
    "config = Config(\n",
    "    region_name = 'us-east-1',\n",
    "    signature_version = 'v4',\n",
    "    retries = {\n",
    "        'max_attempts': 10,\n",
    "        'mode': 'standard'\n",
    "    }\n",
    ")\n",
    "session = boto3.Session() # create a boto3 session to dynamically get and set the region name\n",
    "bedrock = session.client(service_name='bedrock-runtime', config=config) #creates a Bedrock client\n",
    "\n",
    "#anthropic_client = AnthropicBedrock(api_key='',  client=client)"
   ]
  },
  {
   "cell_type": "markdown",
   "id": "277e195c-c3dd-4d6a-8295-7cf735d90cd9",
   "metadata": {
    "tags": []
   },
   "source": [
    "#### Função para obter uma string base64 a partir de bytes de imagem"
   ]
  },
  {
   "cell_type": "code",
   "execution_count": 125,
   "id": "8c17122b-7c52-4e3f-b60b-1563e13dc162",
   "metadata": {},
   "outputs": [],
   "source": [
    "def get_base64_from_bytes(image_bytes):\n",
    "    resized_io = BytesIO(image_bytes)\n",
    "    img_str = base64.b64encode(resized_io.getvalue()).decode(\"utf-8\")\n",
    "    return img_str"
   ]
  },
  {
   "cell_type": "markdown",
   "id": "48bb75b5-08bb-4f7c-af90-b08c3a3470d4",
   "metadata": {},
   "source": [
    "#### Calling Function para transcrição de documentos"
   ]
  },
  {
   "cell_type": "code",
   "execution_count": 126,
   "id": "f7ad01cd-8da1-4f48-b3ab-c9d2f953d800",
   "metadata": {},
   "outputs": [],
   "source": [
    "def transcribe_documents(user_prompt, system_prompt=None, tools_use=None, tool_choice=None, image_bytes=None):\n",
    "#Prepara o corpo da solicitação - Hiperparâmetros\n",
    "    body = {\n",
    "        \"anthropic_version\": \"bedrock-2023-05-31\",\n",
    "        \"max_tokens\": 4200,\n",
    "        \"temperature\": 0,\n",
    "        \"top_k\": 250,\n",
    "        \"top_p\": 0.999,\n",
    "        \"tools\": tools_use,\n",
    "        \"tool_choice\": tool_choice,\n",
    "        #\"system\": system_prompt,\n",
    "        \"messages\": [\n",
    "            {\n",
    "                \"role\": \"user\",\n",
    "                \"content\": [\n",
    "                    {\n",
    "                        \"type\": \"image\",\n",
    "                        \"source\": {\n",
    "                            \"type\": \"base64\",\n",
    "                            \"media_type\": \"image/jpeg\",\n",
    "                            \"data\": get_base64_from_bytes(image_bytes),\n",
    "                        },\n",
    "                    },\n",
    "                    {\n",
    "                        \"type\": \"text\",\n",
    "                        \"text\": user_prompt\n",
    "                    }\n",
    "                ],\n",
    "            }\n",
    "        ],\n",
    "    }\n",
    "    if system_prompt is not None:\n",
    "        body.update({\"system\": system_prompt})\n",
    "    \n",
    "    # Chama o LLM Claude usando um cliente Bedrock\n",
    "    return bedrock.invoke_model(body=json.dumps(body), modelId = \"anthropic.claude-3-haiku-20240307-v1:0\")"
   ]
  },
  {
   "cell_type": "markdown",
   "id": "7639297d-22c0-44d7-8ff1-bf4e0bc57fee",
   "metadata": {},
   "source": [
    "#### Define e seleciona ferramentas"
   ]
  },
  {
   "cell_type": "code",
   "execution_count": 127,
   "id": "381b73b8-0a1e-4335-b57c-f21281595317",
   "metadata": {},
   "outputs": [],
   "source": [
    "#tools_use\n",
    "tools_use = [{\n",
    "    \"name\": \"transcribe_documents\",\n",
    "    \"description\": \"Extract all <document/> fields with the highest accuracy following <instructions/>\",\n",
    "    \"input_schema\": {\n",
    "        \"type\": \"object\",\n",
    "        \"properties\": {\n",
    "            \"documents\": {\n",
    "                \"type\": \"array\",\n",
    "                \"items\": {\n",
    "                    \"$ref\":\"/schemas/document\"\n",
    "                }\n",
    "            }\n",
    "        }\n",
    "    }\n",
    "}]\n",
    "\n",
    "#tool_choice\n",
    "tool_choice = {\"type\": \"tool\", \"name\": \"transcribe_documents\"}"
   ]
  },
  {
   "cell_type": "markdown",
   "id": "30219c1f-0944-4394-ba8b-9d1f05d08646",
   "metadata": {},
   "source": [
    "#### Define Schema JSON"
   ]
  },
  {
   "cell_type": "code",
   "execution_count": 131,
   "id": "bff36814-a71b-48a4-b0c2-b496c224347e",
   "metadata": {},
   "outputs": [],
   "source": [
    "system_prompt = \"\"\"\n",
    "<instructions>\n",
    "  - Noticed that the content is in Portuguese and must be transcribed in that language\n",
    "  - Ensure to escape quotes in the JSON response\n",
    "  - Returns \"\" for missing field values in all rows where missing values\n",
    "  - Apply dependentSchemas to all <document/> fields\n",
    "  \n",
    "</instructions>\n",
    "<document>\n",
    "{\n",
    "    \"$schema\": \"https://json-schema.org/draft/2020-12/schema\",\n",
    "    \"$id\": \"/schemas/document\",\n",
    "    \"type\": \"object\",\n",
    "    \"description\": \"Documento com os campos para transcrição\",\n",
    "    \"properties\": {\n",
    "        \"tipo_documento\": { \"properties\": { \"valor\": { \"type\": \"string\" } }, \"description\": \"Tipo de documento: Conta de energia\" },\n",
    "        \"numero_recibo\": { \"properties\": { \"valor\": { \"type\": \"string\" } }, \"description\": \"Número do recibo ou outro número identificador\" },\n",
    "        \"valor_total_documento\": { \"properties\": { \"valor\": { \"type\": \"number\" } }, \"description\": \"Valor total do recibo\" },\n",
    "        \"moeda\": { \"properties\": { \"valor\": { \"type\": \"string\" } }, \"description\": \"Tipo de moeda e.g. BRL\" },\n",
    "        \"numero_negocio_vendedor\": { \"properties\": { \"valor\": { \"type\": \"string\" } }, \"description\": \"Número de identificação do negócio do vendedor e.g. CNPJ\" },\n",
    "        \"nome_vendedor\": { \"properties\": { \"valor\": { \"type\": \"string\" } }, \"description\": \"Nome do negócio que emitiu o recibo\" },\n",
    "        \"endereco_vendedor\": { \"properties\": { \"valor\": { \"type\": \"string\" } }, \"description\": \"Endereço do site do vendedor\" },\n",
    "        \"telefone_vendedor\": { \"properties\": { \"valor\": { \"type\": \"string\" } }, \"description\": \"Número de telefone do vendedor\" },\n",
    "        \"metodo_pagamento\": { \"properties\": { \"valor\": { \"type\": \"string\" } }, \"description\": \"Tipo de pagamento, e.g. EFTPOS, Cartão\" },\n",
    "        \"data_emissao\": { \"properties\": { \"valor\": { \"format\": \"YYYY-MM-DDThh:mm:ss\" } }, \"description\": \"Data de emissão do documento\" },\n",
    "        \"valor_total_itens_linha\": { \"properties\": { \"valor\": { \"type\": \"number\" } }, \"description\": \"Soma calculada dos campos de valor dos itens de linha\" },\n",
    "        \"Tabela de Itens\": {\n",
    "            \"type\": \"array\",\n",
    "            \"items\": {\n",
    "                \"type\": \"object\",\n",
    "                \"properties\": {\n",
    "                    \"Itens da Fatura\": { \"type\": \"string\", \"description\": \"Descrição do item de linha\" },\n",
    "                    \"Unid.\": { \"type\": \"string\", \"description\": \"Unidade de medida\" },\n",
    "                    \"Quant.\": { \"type\": \"number\", \"description\": \"Quantidade do item\" },\n",
    "                    \"Preço Unit.(R$)\": { \"type\": \"number\", \"description\": \"Preço unitário do item\" },\n",
    "                    \"Valor(R$)\": { \"type\": \"number\", \"description\": \"Valor do item de linha\" },\n",
    "                    \"PIS/COFINS\": { \"type\": \"number\", \"description\": \"Valor de PIS/COFINS\" },\n",
    "                    \"Base Calc. ICMS\": { \"type\": \"number\", \"description\": \"Base de cálculo do ICMS\" },\n",
    "                    \"Aliq. ICMS\": { \"type\": \"number\", \"description\": \"Alíquota do ICMS\" },\n",
    "                    \"ICMS\": { \"type\": \"number\", \"description\": \"Valor do ICMS\" },\n",
    "                    \"Tarifa Unit.\": { \"type\": \"number\", \"description\": \"Tarifa unitária\" }\n",
    "                }\n",
    "            }\n",
    "        },\n",
    "        \"Grandezas Contratadas\": {\n",
    "            \"type\": \"object\",\n",
    "            \"description\": \"Tabela de Grandezas Contratadas\",\n",
    "            \"properties\": {\n",
    "                \"Demanda Fora Ponta\": { \"type\": \"integer\", \"description\": \"Valor da demanda fora ponta contratada\" }\n",
    "            }\n",
    "        },\n",
    "        \"Tabela de Impostos\": {\n",
    "            \"type\": \"object\",\n",
    "            \"description\": \"Tabela de Impostos\",\n",
    "            \"properties\": {\n",
    "                \"ICMS\": {\n",
    "                    \"type\": \"object\",\n",
    "                    \"properties\": {\n",
    "                        \"Base de calculo (R$)\": { \"type\": \"number\", \"description\": \"Base de cálculo do ICMS\" },\n",
    "                        \"Aliquota (%)\": { \"type\": \"number\", \"description\": \"Alíquota do ICMS\" },\n",
    "                        \"Valor (R$)\": { \"type\": \"number\", \"description\": \"Valor do ICMS\" }\n",
    "                    }\n",
    "                },\n",
    "                \"PASEP\": {\n",
    "                    \"type\": \"object\",\n",
    "                    \"properties\": {\n",
    "                        \"Base de calculo (R$)\": { \"type\": \"number\", \"description\": \"Base de cálculo do PASEP\" },\n",
    "                        \"Aliquota (%)\": { \"type\": \"number\", \"description\": \"Alíquota do PASEP\" },\n",
    "                        \"Valor (R$)\": { \"type\": \"number\", \"description\": \"Valor do PASEP\" }\n",
    "                    }\n",
    "                },\n",
    "                \"COFINS\": {\n",
    "                    \"type\": \"object\",\n",
    "                    \"properties\": {\n",
    "                        \"Base de calculo (R$)\": { \"type\": \"number\", \"description\": \"Base de cálculo do COFINS\" },\n",
    "                        \"Aliquota (%)\": { \"type\": \"number\", \"description\": \"Alíquota do COFINS\" },\n",
    "                        \"Valor (R$)\": { \"type\": \"number\", \"description\": \"Valor do COFINS\" }\n",
    "                    }\n",
    "                }\n",
    "            }\n",
    "        }\n",
    "    },\n",
    "    \"dependentSchemas\": {\n",
    "        \"valor\": {\n",
    "            \"properties\": {\n",
    "                \"inferencia\": { \"type\": \"integer\", \"description\": \"0=EXPLICITO|1=DERIVADO|2=AUSENTE|3=OUTRO\" },\n",
    "                \"fonte\": { \"type\": \"string\", \"description\": \"Campo fonte apenas para campos explícitos e derivados\" }\n",
    "            }\n",
    "        }\n",
    "    }\n",
    "}\n",
    "<document/>\n",
    "\"\"\"\n",
    "regular_prompt = \"\"\"\n",
    "Describe documents\n",
    "\"\"\""
   ]
  },
  {
   "cell_type": "code",
   "execution_count": null,
   "id": "764aeebb-f644-41ce-a747-2ff149ab6c68",
   "metadata": {},
   "outputs": [],
   "source": [
    "import matplotlib.pyplot as plt\n",
    "\n",
    "image_path = \"/home/docsia/ssd-data/estudos/Claude_calling-function/4e143382dcb3537dbe1c39fb16a04e9d.jpg\"\n",
    "\n",
    "plt.figure(figsize=(12, 14))\n",
    "\n",
    "plt.imshow(img)\n",
    "plt.show()"
   ]
  },
  {
   "cell_type": "code",
   "execution_count": 143,
   "id": "4233736e-90ae-4636-906f-aebfde3eb1dd",
   "metadata": {},
   "outputs": [
    {
     "data": {
      "text/plain": [
       "{'id': 'msg_bdrk_01CVHDsqCyRgf2WB2YFbMs6s',\n",
       " 'type': 'message',\n",
       " 'role': 'assistant',\n",
       " 'model': 'claude-3-haiku-20240307',\n",
       " 'stop_sequence': None,\n",
       " 'usage': {'input_tokens': 3608, 'output_tokens': 2090},\n",
       " 'content': [{'type': 'tool_use',\n",
       "   'id': 'toolu_bdrk_01EKoahpXABzeFJmEHYEiUi8',\n",
       "   'name': 'transcribe_documents',\n",
       "   'input': {'documents': [{'tipo_documento': {'valor': 'Conta de energia'},\n",
       "      'numero_recibo': {'valor': 'ABR/2024'},\n",
       "      'valor_total_documento': {'valor': 109760.37},\n",
       "      'moeda': {'valor': 'BRL'},\n",
       "      'numero_negocio_vendedor': {'valor': '20.294.0**/****.**'},\n",
       "      'nome_vendedor': {'valor': 'BIOCOR HOSPITAL DOENÇAS CARDIOVASCULARES'},\n",
       "      'endereco_vendedor': {'valor': 'AV. BARBACENA, 1.200 - 1º ANDAR - A.L.I - BAIRRO SANTO AGOSTINHO'},\n",
       "      'telefone_vendedor': {'valor': ''},\n",
       "      'metodo_pagamento': {'valor': 'TSEE FOI CRIADA PELA LEI Nº 10.438, DE 26 DE ABRIL DE 2002'},\n",
       "      'data_emissao': {'valor': '2024-05-13T00:00:00'},\n",
       "      'valor_total_itens_linha': {'valor': 109760.37},\n",
       "      'Tabela de Itens': [{'Itens da Fatura': 'Componente Fio HFP s/ ICMS',\n",
       "        'Unid.': 'kW',\n",
       "        'Quant.': 50,\n",
       "        'Preço Unit.(R$)': 20.142752,\n",
       "        'Valor(R$)': 1007.12,\n",
       "        'PIS/COFINS': 47.62,\n",
       "        'Base Calc. ICMS': 0.0,\n",
       "        'Aliq. ICMS': 0.0,\n",
       "        'ICMS': 0.0,\n",
       "        'Tarifa Unit.': 19.19},\n",
       "       {'Itens da Fatura': 'Componente Fio HFP',\n",
       "        'Unid.': 'kW',\n",
       "        'Quant.': 780,\n",
       "        'Preço Unit.(R$)': 24.564331,\n",
       "        'Valor(R$)': 19160.17,\n",
       "        'PIS/COFINS': 743.14,\n",
       "        'Base Calc. ICMS': 19160.17,\n",
       "        'Aliq. ICMS': 18.0,\n",
       "        'ICMS': 3448.83,\n",
       "        'Tarifa Unit.': 19.19},\n",
       "       {'Itens da Fatura': 'Componente Encargo HFP',\n",
       "        'Unid.': 'kWh',\n",
       "        'Quant.': 349580,\n",
       "        'Preço Unit.(R$)': 0.14759,\n",
       "        'Valor(R$)': 51594.78,\n",
       "        'PIS/COFINS': 2001.15,\n",
       "        'Base Calc. ICMS': 51594.78,\n",
       "        'Aliq. ICMS': 18.0,\n",
       "        'ICMS': 9287.06,\n",
       "        'Tarifa Unit.': 0.1153},\n",
       "       {'Itens da Fatura': 'Componente Encargo HP',\n",
       "        'Unid.': 'kWh',\n",
       "        'Quant.': 38449,\n",
       "        'Preço Unit.(R$)': 1.964101,\n",
       "        'Valor(R$)': 75518.03,\n",
       "        'PIS/COFINS': 2929.03,\n",
       "        'Base Calc. ICMS': 75518.03,\n",
       "        'Aliq. ICMS': 18.0,\n",
       "        'ICMS': 13593.24,\n",
       "        'Tarifa Unit.': 1.53439},\n",
       "       {'Itens da Fatura': 'Contrib Ilum Pública Municipal',\n",
       "        'Unid.': '',\n",
       "        'Quant.': 1,\n",
       "        'Preço Unit.(R$)': 44.62,\n",
       "        'Valor(R$)': 44.62,\n",
       "        'PIS/COFINS': '',\n",
       "        'Base Calc. ICMS': '',\n",
       "        'Aliq. ICMS': '',\n",
       "        'ICMS': '',\n",
       "        'Tarifa Unit.': ''},\n",
       "       {'Itens da Fatura': 'Ajuste de Desconto C. Fio HFP',\n",
       "        'Unid.': '',\n",
       "        'Quant.': 1,\n",
       "        'Preço Unit.(R$)': -5.93,\n",
       "        'Valor(R$)': -5.93,\n",
       "        'PIS/COFINS': '',\n",
       "        'Base Calc. ICMS': '',\n",
       "        'Aliq. ICMS': '',\n",
       "        'ICMS': '',\n",
       "        'Tarifa Unit.': ''},\n",
       "       {'Itens da Fatura': 'Desconto Comp. Fio HFP',\n",
       "        'Unid.': '',\n",
       "        'Quant.': 1,\n",
       "        'Preço Unit.(R$)': -7952.87,\n",
       "        'Valor(R$)': -7952.87,\n",
       "        'PIS/COFINS': '',\n",
       "        'Base Calc. ICMS': '',\n",
       "        'Aliq. ICMS': '',\n",
       "        'ICMS': '',\n",
       "        'Tarifa Unit.': ''},\n",
       "       {'Itens da Fatura': 'Desconto Comp. Encargo HP',\n",
       "        'Unid.': '',\n",
       "        'Quant.': 1,\n",
       "        'Preço Unit.(R$)': -27243.71,\n",
       "        'Valor(R$)': -27243.71,\n",
       "        'PIS/COFINS': '',\n",
       "        'Base Calc. ICMS': '',\n",
       "        'Aliq. ICMS': '',\n",
       "        'ICMS': '',\n",
       "        'Tarifa Unit.': ''},\n",
       "       {'Itens da Fatura': 'Ajuste de Desconto C. Enc HP',\n",
       "        'Unid.': '',\n",
       "        'Quant.': 1,\n",
       "        'Preço Unit.(R$)': -18.75,\n",
       "        'Valor(R$)': -18.75,\n",
       "        'PIS/COFINS': '',\n",
       "        'Base Calc. ICMS': '',\n",
       "        'Aliq. ICMS': '',\n",
       "        'ICMS': '',\n",
       "        'Tarifa Unit.': ''},\n",
       "       {'Itens da Fatura': 'Compensação DIC mensal - 032024',\n",
       "        'Unid.': '',\n",
       "        'Quant.': 1,\n",
       "        'Preço Unit.(R$)': -2343.09,\n",
       "        'Valor(R$)': -2343.09,\n",
       "        'PIS/COFINS': '',\n",
       "        'Base Calc. ICMS': '',\n",
       "        'Aliq. ICMS': '',\n",
       "        'ICMS': '',\n",
       "        'Tarifa Unit.': ''}],\n",
       "      'Grandezas Contratadas': {'Demanda Fora Ponta': 830},\n",
       "      'Tabela de Impostos': {'ICMS': {'Base de calculo (R$)': 146272.98,\n",
       "        'Aliquota (%)': 18.0,\n",
       "        'Valor (R$)': 26329.13},\n",
       "       'PASEP': {'Base de calculo (R$)': 120650.97,\n",
       "        'Aliquota (%)': 0.84,\n",
       "        'Valor (R$)': 1015.46},\n",
       "       'COFINS': {'Base de calculo (R$)': 120650.97,\n",
       "        'Aliquota (%)': 3.89,\n",
       "        'Valor (R$)': 4704.54}}}]}}],\n",
       " 'stop_reason': 'tool_use'}"
      ]
     },
     "metadata": {},
     "output_type": "display_data"
    }
   ],
   "source": [
    "# Leitura da imagem e transcrição do documento\n",
    "image_bytes = bytearray(open(\"/home/docsia/ssd-data/estudos/Claude_calling-function/4e143382dcb3537dbe1c39fb16a04e9d.jpg\", 'rb').read())  \n",
    "#image_bytes = bytearray(open(\"/home/docsia/ssd-data/estudos/calling-function_claude3/2b2d6ddaaf4568c40abf5a44ab87a9b8.jpg\", 'rb').read())  \n",
    "\n",
    "response = transcribe_documents(regular_prompt, system_prompt, tools_use, tool_choice, image_bytes)\n",
    "\n",
    "response_body = json.loads(response.get('body').read()) \n",
    "\n",
    "display(response_body)"
   ]
  },
  {
   "cell_type": "code",
   "execution_count": 133,
   "id": "e11e9600-c22e-416a-b745-2856308dc9f9",
   "metadata": {},
   "outputs": [
    {
     "data": {
      "application/json": {
       "documents": [
        {
         "Grandezas Contratadas": {
          "Demanda Fora Ponta": 830
         },
         "Tabela de Impostos": {
          "COFINS": {
           "Aliquota (%)": 3.89,
           "Base de calculo (R$)": 120650.97,
           "Valor (R$)": 4704.04
          },
          "ICMS": {
           "Aliquota (%)": 18,
           "Base de calculo (R$)": 146272.98,
           "Valor (R$)": 26329.13
          },
          "PASEP": {
           "Aliquota (%)": 0.84,
           "Base de calculo (R$)": 120650.97,
           "Valor (R$)": 1015.46
          }
         },
         "Tabela de Itens": [
          {
           "Aliq. ICMS": 0,
           "Base Calc. ICMS": 0,
           "ICMS": 0,
           "Itens da Fatura": "Componente Fio HFP s/ ICMS",
           "PIS/COFINS": 47.62,
           "Preço Unit.(R$)": 20.14275218,
           "Quant.": 50,
           "Tarifa Unit.": 19.19,
           "Unid.": "kW",
           "Valor(R$)": 1007.12
          },
          {
           "Aliq. ICMS": 18,
           "Base Calc. ICMS": 19160.17,
           "ICMS": 3448.83,
           "Itens da Fatura": "Componente Fio HFP",
           "PIS/COFINS": 743.14,
           "Preço Unit.(R$)": 24.56433192,
           "Quant.": 780,
           "Tarifa Unit.": 19.19,
           "Unid.": "kW",
           "Valor(R$)": 19160.17
          },
          {
           "Aliq. ICMS": 18,
           "Base Calc. ICMS": 51594.78,
           "ICMS": 9287.06,
           "Itens da Fatura": "Componente Encargo HFP",
           "PIS/COFINS": 2001.15,
           "Preço Unit.(R$)": 0.1475908,
           "Quant.": 349580,
           "Tarifa Unit.": 0.1153,
           "Unid.": "kWh",
           "Valor(R$)": 51594.78
          },
          {
           "Aliq. ICMS": 18,
           "Base Calc. ICMS": 75518.03,
           "ICMS": 13593.24,
           "Itens da Fatura": "Componente Encargo HP",
           "PIS/COFINS": 2929.03,
           "Preço Unit.(R$)": 1.96410971,
           "Quant.": 38449,
           "Tarifa Unit.": 1.53439,
           "Unid.": "kWh",
           "Valor(R$)": 75518.03
          },
          {
           "Aliq. ICMS": "",
           "Base Calc. ICMS": "",
           "ICMS": "",
           "Itens da Fatura": "Contib Ilum Pública Municipal",
           "PIS/COFINS": "",
           "Preço Unit.(R$)": 44.62,
           "Quant.": 1,
           "Tarifa Unit.": "",
           "Unid.": "",
           "Valor(R$)": 44.62
          },
          {
           "Aliq. ICMS": "",
           "Base Calc. ICMS": "",
           "ICMS": "",
           "Itens da Fatura": "Ajuste de Desconto C. Fio HFP",
           "PIS/COFINS": "",
           "Preço Unit.(R$)": -5.93,
           "Quant.": 1,
           "Tarifa Unit.": "",
           "Unid.": "",
           "Valor(R$)": -5.93
          },
          {
           "Aliq. ICMS": "",
           "Base Calc. ICMS": "",
           "ICMS": "",
           "Itens da Fatura": "Desconto Comp. Fio HFP",
           "PIS/COFINS": "",
           "Preço Unit.(R$)": -7952.87,
           "Quant.": 1,
           "Tarifa Unit.": "",
           "Unid.": "",
           "Valor(R$)": -7952.87
          },
          {
           "Aliq. ICMS": "",
           "Base Calc. ICMS": "",
           "ICMS": "",
           "Itens da Fatura": "Desconto Comp. Encargo HP",
           "PIS/COFINS": "",
           "Preço Unit.(R$)": -27243.71,
           "Quant.": 1,
           "Tarifa Unit.": "",
           "Unid.": "",
           "Valor(R$)": -27243.71
          },
          {
           "Aliq. ICMS": "",
           "Base Calc. ICMS": "",
           "ICMS": "",
           "Itens da Fatura": "Ajuste de Desconto C. Enc HP",
           "PIS/COFINS": "",
           "Preço Unit.(R$)": -18.75,
           "Quant.": 1,
           "Tarifa Unit.": "",
           "Unid.": "",
           "Valor(R$)": -18.75
          },
          {
           "Aliq. ICMS": "",
           "Base Calc. ICMS": "",
           "ICMS": "",
           "Itens da Fatura": "Compensação DIC mensal - 03/2024",
           "PIS/COFINS": "",
           "Preço Unit.(R$)": -2343.09,
           "Quant.": 1,
           "Tarifa Unit.": "",
           "Unid.": "",
           "Valor(R$)": -2343.09
          }
         ],
         "data_emissao": {
          "valor": "2024-05-13T00:00:00"
         },
         "endereco_vendedor": {
          "valor": "AV. BARBACENA, 1.200 - 1º ANDAR - ALA 1 - BAIRRO SANTO AGOSTINHO"
         },
         "metodo_pagamento": {
          "valor": "USLD Livre At Verde"
         },
         "moeda": {
          "valor": "BRL"
         },
         "nome_vendedor": {
          "valor": "BIOCOR HOSPITAL DOENCAS CARDIOVASCULARES"
         },
         "numero_negocio_vendedor": {
          "valor": "20.294.0**/****.**"
         },
         "numero_recibo": {
          "valor": "ABR/2024"
         },
         "telefone_vendedor": {
          "valor": ""
         },
         "tipo_documento": {
          "valor": "Conta de energia"
         },
         "valor_total_documento": {
          "valor": 109760.37
         },
         "valor_total_itens_linha": {
          "valor": 146272.98
         }
        }
       ]
      },
      "text/plain": [
       "<IPython.core.display.JSON object>"
      ]
     },
     "metadata": {
      "application/json": {
       "expanded": false,
       "root": "content"
      }
     },
     "output_type": "display_data"
    }
   ],
   "source": [
    "display(JSON(response_body['content'][0]['input'], root='content'))"
   ]
  },
  {
   "cell_type": "markdown",
   "id": "35ed64df-5581-4c86-aea8-10b3fceef89c",
   "metadata": {},
   "source": [
    "#### Classificação de documentos"
   ]
  },
  {
   "cell_type": "code",
   "execution_count": 112,
   "id": "ab50443b-7315-4499-832b-773bdefb69cb",
   "metadata": {},
   "outputs": [],
   "source": [
    "tools_use = [{\n",
    "    \"name\": \"classify_documents\",\n",
    "    \"description\": \"Perform document classification\",\n",
    "    \"input_schema\": {\n",
    "        \"type\": \"object\",\n",
    "        \"properties\": {\n",
    "            \"documents\": {\n",
    "                \"type\": \"array\",\n",
    "                \"items\": {\n",
    "                    \"type\": \"object\",\n",
    "                    \"properties\": {\n",
    "                        \"type\": { \"description\": \"Type of document\", \"enum\": [\"recibo\", \"invoice\", \"conta de energia\"] },\n",
    "                        \"country_code\": { \"description\": \"Country code e.g. AU/US/UK\" },\n",
    "                        \"document_number\": { \"description\": \"The document number or other identifier number\" }\n",
    "\n",
    "                    }\n",
    "                }\n",
    "            }\n",
    "        }\n",
    "    }\n",
    "}]\n",
    "tool_choice = {\"type\": \"tool\", \"name\": \"classify_documents\"}\n",
    "\n",
    "regular_prompt = \"\"\"\n",
    "Classify documents\n",
    "\"\"\""
   ]
  },
  {
   "cell_type": "code",
   "execution_count": 134,
   "id": "d7016111-7a3f-4ac9-bea0-14dc4ef22173",
   "metadata": {},
   "outputs": [
    {
     "data": {
      "text/plain": [
       "{'id': 'msg_bdrk_012Ft6kzayUKcDh12T2sa8ew',\n",
       " 'type': 'message',\n",
       " 'role': 'assistant',\n",
       " 'model': 'claude-3-haiku-20240307',\n",
       " 'stop_sequence': None,\n",
       " 'usage': {'input_tokens': 1997, 'output_tokens': 61},\n",
       " 'content': [{'type': 'tool_use',\n",
       "   'id': 'toolu_bdrk_018bKJSGWvpeUYy3aDeNvVGu',\n",
       "   'name': 'transcribe_documents',\n",
       "   'input': {'documents': [{'type': 'electricity_bill',\n",
       "      'accuracy': 'high'}]}}],\n",
       " 'stop_reason': 'tool_use'}"
      ]
     },
     "metadata": {},
     "output_type": "display_data"
    }
   ],
   "source": [
    "# Leitura da imagem e classificação dos documentos\n",
    "image_bytes = bytearray(open(\"/home/docsia/ssd-data/estudos/Claude_calling-function/4e143382dcb3537dbe1c39fb16a04e9d.jpg\", 'rb').read())  \n",
    "response = transcribe_documents(regular_prompt, None, tools_use, tool_choice, image_bytes)\n",
    "\n",
    "# Processamento da resposta\n",
    "response_body = json.loads(response.get('body').read()) \n",
    "\n",
    "# Exibição da resposta\n",
    "display(response_body)"
   ]
  },
  {
   "cell_type": "code",
   "execution_count": 135,
   "id": "097a2c13-8b34-4989-9cb3-bcf4c6ee0456",
   "metadata": {},
   "outputs": [
    {
     "data": {
      "application/json": {
       "documents": [
        {
         "accuracy": "high",
         "type": "electricity_bill"
        }
       ]
      },
      "text/plain": [
       "<IPython.core.display.JSON object>"
      ]
     },
     "metadata": {
      "application/json": {
       "expanded": false,
       "root": "content"
      }
     },
     "output_type": "display_data"
    }
   ],
   "source": [
    "display(JSON(response_body['content'][0]['input'], root='content'))"
   ]
  },
  {
   "cell_type": "code",
   "execution_count": null,
   "id": "83947809-a5ed-4690-87a5-96c07dae337f",
   "metadata": {},
   "outputs": [],
   "source": []
  }
 ],
 "metadata": {
  "kernelspec": {
   "display_name": "Python [conda env:graphdoc]",
   "language": "python",
   "name": "conda-env-graphdoc-py"
  },
  "language_info": {
   "codemirror_mode": {
    "name": "ipython",
    "version": 3
   },
   "file_extension": ".py",
   "mimetype": "text/x-python",
   "name": "python",
   "nbconvert_exporter": "python",
   "pygments_lexer": "ipython3",
   "version": "3.8.19"
  }
 },
 "nbformat": 4,
 "nbformat_minor": 5
}
